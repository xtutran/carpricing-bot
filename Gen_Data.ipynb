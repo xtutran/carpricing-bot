{
 "cells": [
  {
   "cell_type": "code",
   "execution_count": 1,
   "metadata": {
    "collapsed": true
   },
   "outputs": [],
   "source": [
    "import pandas as pd\n",
    "import numpy as np"
   ]
  },
  {
   "cell_type": "code",
   "execution_count": 44,
   "metadata": {
    "collapsed": true
   },
   "outputs": [],
   "source": [
    "df = pd.read_csv('data/data.csv')"
   ]
  },
  {
   "cell_type": "code",
   "execution_count": 45,
   "metadata": {
    "collapsed": false
   },
   "outputs": [
    {
     "name": "stdout",
     "output_type": "stream",
     "text": [
      "<class 'pandas.core.frame.DataFrame'>\n",
      "RangeIndex: 11914 entries, 0 to 11913\n",
      "Data columns (total 16 columns):\n",
      "Make                 11914 non-null object\n",
      "Model                11914 non-null object\n",
      "Year                 11914 non-null int64\n",
      "Engine Fuel Type     11911 non-null object\n",
      "Engine HP            11845 non-null float64\n",
      "Engine Cylinders     11884 non-null float64\n",
      "Transmission Type    11914 non-null object\n",
      "Driven_Wheels        11914 non-null object\n",
      "Number of Doors      11908 non-null float64\n",
      "Market Category      8172 non-null object\n",
      "Vehicle Size         11914 non-null object\n",
      "Vehicle Style        11914 non-null object\n",
      "highway MPG          11914 non-null int64\n",
      "city mpg             11914 non-null int64\n",
      "Popularity           11914 non-null int64\n",
      "MSRP                 11914 non-null int64\n",
      "dtypes: float64(3), int64(5), object(8)\n",
      "memory usage: 1.5+ MB\n"
     ]
    }
   ],
   "source": [
    "df.info(memory_usage=True)"
   ]
  },
  {
   "cell_type": "code",
   "execution_count": 239,
   "metadata": {
    "collapsed": false
   },
   "outputs": [
    {
     "data": {
      "text/html": [
       "<div>\n",
       "<style scoped>\n",
       "    .dataframe tbody tr th:only-of-type {\n",
       "        vertical-align: middle;\n",
       "    }\n",
       "\n",
       "    .dataframe tbody tr th {\n",
       "        vertical-align: top;\n",
       "    }\n",
       "\n",
       "    .dataframe thead th {\n",
       "        text-align: right;\n",
       "    }\n",
       "</style>\n",
       "<table border=\"1\" class=\"dataframe\">\n",
       "  <thead>\n",
       "    <tr style=\"text-align: right;\">\n",
       "      <th></th>\n",
       "      <th>Make</th>\n",
       "      <th>Model</th>\n",
       "      <th>Year</th>\n",
       "      <th>Engine Fuel Type</th>\n",
       "      <th>Engine HP</th>\n",
       "      <th>Engine Cylinders</th>\n",
       "      <th>Transmission Type</th>\n",
       "      <th>Driven_Wheels</th>\n",
       "      <th>Number of Doors</th>\n",
       "      <th>Market Category</th>\n",
       "      <th>Vehicle Size</th>\n",
       "      <th>Vehicle Style</th>\n",
       "      <th>highway MPG</th>\n",
       "      <th>city mpg</th>\n",
       "      <th>Popularity</th>\n",
       "      <th>MSRP</th>\n",
       "    </tr>\n",
       "  </thead>\n",
       "  <tbody>\n",
       "    <tr>\n",
       "      <th>0</th>\n",
       "      <td>BMW</td>\n",
       "      <td>1 Series M</td>\n",
       "      <td>2011</td>\n",
       "      <td>premium unleaded (required)</td>\n",
       "      <td>335.0</td>\n",
       "      <td>6.0</td>\n",
       "      <td>MANUAL</td>\n",
       "      <td>rear wheel drive</td>\n",
       "      <td>2.0</td>\n",
       "      <td>Factory Tuner,Luxury,High-Performance</td>\n",
       "      <td>Compact</td>\n",
       "      <td>Coupe</td>\n",
       "      <td>26</td>\n",
       "      <td>19</td>\n",
       "      <td>3916</td>\n",
       "      <td>46135</td>\n",
       "    </tr>\n",
       "    <tr>\n",
       "      <th>1</th>\n",
       "      <td>BMW</td>\n",
       "      <td>1 Series</td>\n",
       "      <td>2011</td>\n",
       "      <td>premium unleaded (required)</td>\n",
       "      <td>300.0</td>\n",
       "      <td>6.0</td>\n",
       "      <td>MANUAL</td>\n",
       "      <td>rear wheel drive</td>\n",
       "      <td>2.0</td>\n",
       "      <td>Luxury,Performance</td>\n",
       "      <td>Compact</td>\n",
       "      <td>Convertible</td>\n",
       "      <td>28</td>\n",
       "      <td>19</td>\n",
       "      <td>3916</td>\n",
       "      <td>40650</td>\n",
       "    </tr>\n",
       "    <tr>\n",
       "      <th>2</th>\n",
       "      <td>BMW</td>\n",
       "      <td>1 Series</td>\n",
       "      <td>2011</td>\n",
       "      <td>premium unleaded (required)</td>\n",
       "      <td>300.0</td>\n",
       "      <td>6.0</td>\n",
       "      <td>MANUAL</td>\n",
       "      <td>rear wheel drive</td>\n",
       "      <td>2.0</td>\n",
       "      <td>Luxury,High-Performance</td>\n",
       "      <td>Compact</td>\n",
       "      <td>Coupe</td>\n",
       "      <td>28</td>\n",
       "      <td>20</td>\n",
       "      <td>3916</td>\n",
       "      <td>36350</td>\n",
       "    </tr>\n",
       "    <tr>\n",
       "      <th>3</th>\n",
       "      <td>BMW</td>\n",
       "      <td>1 Series</td>\n",
       "      <td>2011</td>\n",
       "      <td>premium unleaded (required)</td>\n",
       "      <td>230.0</td>\n",
       "      <td>6.0</td>\n",
       "      <td>MANUAL</td>\n",
       "      <td>rear wheel drive</td>\n",
       "      <td>2.0</td>\n",
       "      <td>Luxury,Performance</td>\n",
       "      <td>Compact</td>\n",
       "      <td>Coupe</td>\n",
       "      <td>28</td>\n",
       "      <td>18</td>\n",
       "      <td>3916</td>\n",
       "      <td>29450</td>\n",
       "    </tr>\n",
       "    <tr>\n",
       "      <th>4</th>\n",
       "      <td>BMW</td>\n",
       "      <td>1 Series</td>\n",
       "      <td>2011</td>\n",
       "      <td>premium unleaded (required)</td>\n",
       "      <td>230.0</td>\n",
       "      <td>6.0</td>\n",
       "      <td>MANUAL</td>\n",
       "      <td>rear wheel drive</td>\n",
       "      <td>2.0</td>\n",
       "      <td>Luxury</td>\n",
       "      <td>Compact</td>\n",
       "      <td>Convertible</td>\n",
       "      <td>28</td>\n",
       "      <td>18</td>\n",
       "      <td>3916</td>\n",
       "      <td>34500</td>\n",
       "    </tr>\n",
       "  </tbody>\n",
       "</table>\n",
       "</div>"
      ],
      "text/plain": [
       "  Make       Model  Year             Engine Fuel Type  Engine HP  \\\n",
       "0  BMW  1 Series M  2011  premium unleaded (required)      335.0   \n",
       "1  BMW    1 Series  2011  premium unleaded (required)      300.0   \n",
       "2  BMW    1 Series  2011  premium unleaded (required)      300.0   \n",
       "3  BMW    1 Series  2011  premium unleaded (required)      230.0   \n",
       "4  BMW    1 Series  2011  premium unleaded (required)      230.0   \n",
       "\n",
       "   Engine Cylinders Transmission Type     Driven_Wheels  Number of Doors  \\\n",
       "0               6.0            MANUAL  rear wheel drive              2.0   \n",
       "1               6.0            MANUAL  rear wheel drive              2.0   \n",
       "2               6.0            MANUAL  rear wheel drive              2.0   \n",
       "3               6.0            MANUAL  rear wheel drive              2.0   \n",
       "4               6.0            MANUAL  rear wheel drive              2.0   \n",
       "\n",
       "                         Market Category Vehicle Size Vehicle Style  \\\n",
       "0  Factory Tuner,Luxury,High-Performance      Compact         Coupe   \n",
       "1                     Luxury,Performance      Compact   Convertible   \n",
       "2                Luxury,High-Performance      Compact         Coupe   \n",
       "3                     Luxury,Performance      Compact         Coupe   \n",
       "4                                 Luxury      Compact   Convertible   \n",
       "\n",
       "   highway MPG  city mpg  Popularity   MSRP  \n",
       "0           26        19        3916  46135  \n",
       "1           28        19        3916  40650  \n",
       "2           28        20        3916  36350  \n",
       "3           28        18        3916  29450  \n",
       "4           28        18        3916  34500  "
      ]
     },
     "execution_count": 239,
     "metadata": {},
     "output_type": "execute_result"
    }
   ],
   "source": [
    "df.head()"
   ]
  },
  {
   "cell_type": "markdown",
   "metadata": {},
   "source": [
    "- clean data"
   ]
  },
  {
   "cell_type": "code",
   "execution_count": 133,
   "metadata": {
    "collapsed": true
   },
   "outputs": [],
   "source": [
    "df.Make = df.Make.str.replace(\"-\", \" \").replace(\"/\", \"\")\n",
    "df.Model = df.Model.str.replace(\"-\", \" \").replace(\"/\", \"\")"
   ]
  },
  {
   "cell_type": "code",
   "execution_count": 134,
   "metadata": {
    "collapsed": true
   },
   "outputs": [],
   "source": [
    "pd.DataFrame(df.Make.unique().tolist()).to_csv('data/make_list.txt', index=False, header=None)"
   ]
  },
  {
   "cell_type": "code",
   "execution_count": 135,
   "metadata": {
    "collapsed": true
   },
   "outputs": [],
   "source": [
    "pd.DataFrame(df.Model.unique().tolist()).to_csv('data/model_list.txt', index=False, header=None)"
   ]
  },
  {
   "cell_type": "code",
   "execution_count": 7,
   "metadata": {
    "collapsed": false
   },
   "outputs": [
    {
     "name": "stdout",
     "output_type": "stream",
     "text": [
      "total 2000\r\n",
      "-rw-r--r--  1 txuantu  staff   14517 Nov  8 11:26 Gen_Data.ipynb\r\n",
      "-rw-r--r--  1 txuantu  staff   11357 Nov  8 10:18 LICENSE\r\n",
      "-rw-r--r--  1 txuantu  staff    1053 Nov  8 10:18 Makefile\r\n",
      "-rw-r--r--  1 txuantu  staff    4609 Nov  8 10:18 README.md\r\n",
      "-rw-r--r--  1 txuantu  staff     808 Nov  8 10:18 actions.py\r\n",
      "drwxr-xr-x  5 txuantu  staff     170 Nov  8 10:38 \u001b[1m\u001b[36mdata\u001b[m\u001b[m\r\n",
      "-rw-r--r--  1 txuantu  staff     429 Nov  8 10:18 domain.yml\r\n",
      "-rw-r--r--  1 txuantu  staff      56 Nov  8 10:18 endpoints.yml\r\n",
      "-rw-r--r--  1 txuantu  staff     225 Nov  8 11:47 nlu_config.yml\r\n",
      "-rw-r--r--  1 txuantu  staff  961884 Nov  8 10:18 rasa-stack-mockup.gif\r\n",
      "-rw-r--r--  1 txuantu  staff     604 Nov  8 10:18 requirements.txt\r\n"
     ]
    }
   ],
   "source": [
    "!ls -l"
   ]
  },
  {
   "cell_type": "code",
   "execution_count": 9,
   "metadata": {
    "collapsed": false,
    "scrolled": true
   },
   "outputs": [
    {
     "name": "stderr",
     "output_type": "stream",
     "text": [
      "/Volumes/BOOTCAMP/Tools/anaconda2.4/lib/python2.7/site-packages/h5py/__init__.py:36: FutureWarning: Conversion of the second argument of issubdtype from `float` to `np.floating` is deprecated. In future, it will be treated as `np.float64 == np.dtype(float).type`.\n",
      "  from ._conv import register_converters as _register_converters\n",
      "2018-11-11 14:33:45 INFO     rasa_nlu.utils.spacy_utils  - Trying to load spacy model with name 'en'\n",
      "2018-11-11 14:33:46 INFO     rasa_nlu.components  - Added 'nlp_spacy' to component cache. Key 'nlp_spacy-en'.\n",
      "2018-11-11 14:34:01 INFO     rasa_nlu.training_data.loading  - Training data format of data/nlu_data.md is md\n",
      "2018-11-11 14:34:01 INFO     rasa_nlu.training_data.training_data  - Training data stats: \n",
      "\t- intent examples: 56 (10 distinct intents)\n",
      "\t- Found intents: 'name', 'user_dob', 'car_model', 'affirm', 'thank', 'greet', 'pricing', 'goodbye', 'expire_date', 'year_model'\n",
      "\t- entity examples: 18 (3 distinct entities)\n",
      "\t- found entities: 'make', 'model', 'name'\n",
      "\n",
      "2018-11-11 14:34:01 INFO     rasa_nlu.model  - Starting to train component nlp_spacy\n",
      "2018-11-11 14:34:01 INFO     rasa_nlu.model  - Finished training component.\n",
      "2018-11-11 14:34:01 INFO     rasa_nlu.model  - Starting to train component tokenizer_spacy\n",
      "2018-11-11 14:34:01 INFO     rasa_nlu.model  - Finished training component.\n",
      "2018-11-11 14:34:01 INFO     rasa_nlu.model  - Starting to train component intent_entity_featurizer_regex\n",
      "2018-11-11 14:34:01 INFO     rasa_nlu.model  - Finished training component.\n",
      "2018-11-11 14:34:01 INFO     rasa_nlu.model  - Starting to train component intent_featurizer_spacy\n",
      "2018-11-11 14:34:01 INFO     rasa_nlu.model  - Finished training component.\n",
      "2018-11-11 14:34:01 INFO     rasa_nlu.model  - Starting to train component ner_crf\n",
      "2018-11-11 14:34:02 INFO     rasa_nlu.model  - Finished training component.\n",
      "2018-11-11 14:34:02 INFO     rasa_nlu.model  - Starting to train component ner_duckling\n",
      "2018-11-11 14:34:02 INFO     rasa_nlu.model  - Finished training component.\n",
      "2018-11-11 14:34:02 INFO     rasa_nlu.model  - Starting to train component intent_featurizer_count_vectors\n",
      "2018-11-11 14:34:02 INFO     rasa_nlu.model  - Finished training component.\n",
      "2018-11-11 14:34:02 INFO     rasa_nlu.model  - Starting to train component intent_featurizer_ngrams\n",
      "2018-11-11 14:34:02 INFO     rasa_nlu.model  - Finished training component.\n",
      "2018-11-11 14:34:02 INFO     rasa_nlu.model  - Starting to train component intent_classifier_tensorflow_embedding\n",
      "2018-11-11 14:34:04.050761: I tensorflow/core/platform/cpu_feature_guard.cc:141] Your CPU supports instructions that this TensorFlow binary was not compiled to use: AVX2 FMA\n",
      "2018-11-11 14:34:04 INFO     rasa_nlu.classifiers.embedding_intent_classifier  - Accuracy is updated every 10 epochs\n",
      "\r",
      "Epochs:   0%|          | 0/300 [00:00<?, ?it/s]\r",
      "Epochs:   0%|          | 0/300 [00:00<?, ?it/s, acc=0.214, loss=1.569]\r",
      "Epochs:   0%|          | 1/300 [00:00<01:47,  2.79it/s, acc=0.214, loss=1.569]\r",
      "Epochs:   0%|          | 1/300 [00:00<01:48,  2.76it/s, acc=0.214, loss=1.450]\r",
      "Epochs:   0%|          | 1/300 [00:00<01:49,  2.73it/s, acc=0.214, loss=1.316]\r",
      "Epochs:   0%|          | 1/300 [00:00<01:51,  2.69it/s, acc=0.214, loss=1.235]\r",
      "Epochs:   0%|          | 1/300 [00:00<01:52,  2.66it/s, acc=0.214, loss=1.200]\r",
      "Epochs:   0%|          | 1/300 [00:00<01:53,  2.63it/s, acc=0.214, loss=1.164]\r",
      "Epochs:   0%|          | 1/300 [00:00<01:54,  2.61it/s, acc=0.214, loss=1.111]\r",
      "Epochs:   0%|          | 1/300 [00:00<01:56,  2.57it/s, acc=0.214, loss=1.082]\r",
      "Epochs:   0%|          | 1/300 [00:00<01:57,  2.55it/s, acc=0.214, loss=1.025]\r",
      "Epochs:   0%|          | 1/300 [00:00<01:58,  2.51it/s, acc=0.893, loss=0.965]\r",
      "Epochs:   0%|          | 1/300 [00:00<02:00,  2.49it/s, acc=0.893, loss=0.939]\r",
      "Epochs:   0%|          | 1/300 [00:00<02:01,  2.46it/s, acc=0.893, loss=0.931]\r",
      "Epochs:   0%|          | 1/300 [00:00<02:02,  2.44it/s, acc=0.893, loss=0.921]\r",
      "Epochs:   0%|          | 1/300 [00:00<02:03,  2.41it/s, acc=0.893, loss=0.904]\r",
      "Epochs:   0%|          | 1/300 [00:00<02:05,  2.39it/s, acc=0.893, loss=0.875]\r",
      "Epochs:   0%|          | 1/300 [00:00<02:06,  2.37it/s, acc=0.893, loss=0.805]\r",
      "Epochs:   0%|          | 1/300 [00:00<02:07,  2.34it/s, acc=0.893, loss=0.802]\r",
      "Epochs:   0%|          | 1/300 [00:00<02:08,  2.32it/s, acc=0.893, loss=0.765]\r",
      "Epochs:   0%|          | 1/300 [00:00<02:09,  2.30it/s, acc=0.893, loss=0.780]\r",
      "Epochs:   0%|          | 1/300 [00:00<02:11,  2.27it/s, acc=1.000, loss=0.775]\r",
      "Epochs:   0%|          | 1/300 [00:00<02:12,  2.25it/s, acc=1.000, loss=0.727]\r",
      "Epochs:   0%|          | 1/300 [00:00<02:14,  2.23it/s, acc=1.000, loss=0.718]\r",
      "Epochs:   0%|          | 1/300 [00:00<02:15,  2.21it/s, acc=1.000, loss=0.694]\r",
      "Epochs:   0%|          | 1/300 [00:00<02:16,  2.19it/s, acc=1.000, loss=0.676]\r",
      "Epochs:   0%|          | 1/300 [00:00<02:18,  2.17it/s, acc=1.000, loss=0.665]\r",
      "Epochs:   8%|8         | 25/300 [00:00<00:05, 54.15it/s, acc=1.000, loss=0.665]\r",
      "Epochs:   8%|8         | 25/300 [00:00<00:05, 53.66it/s, acc=1.000, loss=0.665]\r",
      "Epochs:   8%|8         | 25/300 [00:00<00:05, 53.18it/s, acc=1.000, loss=0.633]\r",
      "Epochs:   8%|8         | 25/300 [00:00<00:05, 52.73it/s, acc=1.000, loss=0.630]\r",
      "Epochs:   8%|8         | 25/300 [00:00<00:05, 52.25it/s, acc=1.000, loss=0.627]\r",
      "Epochs:   8%|8         | 25/300 [00:00<00:05, 51.67it/s, acc=1.000, loss=0.609]\r",
      "Epochs:   8%|8         | 25/300 [00:00<00:05, 51.22it/s, acc=1.000, loss=0.592]\r",
      "Epochs:   8%|8         | 25/300 [00:00<00:05, 50.79it/s, acc=1.000, loss=0.594]\r",
      "Epochs:   8%|8         | 25/300 [00:00<00:05, 50.39it/s, acc=1.000, loss=0.587]\r",
      "Epochs:   8%|8         | 25/300 [00:00<00:05, 49.96it/s, acc=1.000, loss=0.582]\r",
      "Epochs:   8%|8         | 25/300 [00:00<00:05, 49.57it/s, acc=1.000, loss=0.576]\r",
      "Epochs:   8%|8         | 25/300 [00:00<00:05, 49.14it/s, acc=1.000, loss=0.554]\r",
      "Epochs:   8%|8         | 25/300 [00:00<00:05, 48.76it/s, acc=1.000, loss=0.564]\r",
      "Epochs:   8%|8         | 25/300 [00:00<00:05, 48.38it/s, acc=1.000, loss=0.546]\r",
      "Epochs:   8%|8         | 25/300 [00:00<00:05, 47.99it/s, acc=1.000, loss=0.541]\r",
      "Epochs:   8%|8         | 25/300 [00:00<00:05, 47.45it/s, acc=1.000, loss=0.532]\r",
      "Epochs:   8%|8         | 25/300 [00:00<00:05, 47.08it/s, acc=1.000, loss=0.528]\r",
      "Epochs:   8%|8         | 25/300 [00:00<00:05, 46.69it/s, acc=1.000, loss=0.517]\r",
      "Epochs:   8%|8         | 25/300 [00:00<00:05, 46.34it/s, acc=1.000, loss=0.517]\r",
      "Epochs:   8%|8         | 25/300 [00:00<00:05, 45.99it/s, acc=1.000, loss=0.510]\r",
      "Epochs:   8%|8         | 25/300 [00:00<00:06, 45.65it/s, acc=1.000, loss=0.501]\r",
      "Epochs:   8%|8         | 25/300 [00:00<00:06, 45.32it/s, acc=1.000, loss=0.501]\r",
      "Epochs:   8%|8         | 25/300 [00:00<00:06, 44.98it/s, acc=1.000, loss=0.496]\r",
      "Epochs:   8%|8         | 25/300 [00:00<00:06, 44.59it/s, acc=1.000, loss=0.481]\r",
      "Epochs:   8%|8         | 25/300 [00:00<00:06, 44.24it/s, acc=1.000, loss=0.482]\r",
      "Epochs:  16%|#6        | 49/300 [00:00<00:02, 86.69it/s, acc=1.000, loss=0.482]\r",
      "Epochs:  16%|#6        | 49/300 [00:00<00:02, 85.79it/s, acc=1.000, loss=0.484]\r",
      "Epochs:  16%|#6        | 49/300 [00:00<00:02, 85.00it/s, acc=1.000, loss=0.466]\r",
      "Epochs:  16%|#6        | 49/300 [00:00<00:02, 84.42it/s, acc=1.000, loss=0.468]\r",
      "Epochs:  16%|#6        | 49/300 [00:00<00:02, 83.83it/s, acc=1.000, loss=0.461]\r",
      "Epochs:  16%|#6        | 49/300 [00:00<00:03, 83.23it/s, acc=1.000, loss=0.453]\r",
      "Epochs:  16%|#6        | 49/300 [00:00<00:03, 82.65it/s, acc=1.000, loss=0.450]\r",
      "Epochs:  16%|#6        | 49/300 [00:00<00:03, 82.09it/s, acc=1.000, loss=0.443]\r",
      "Epochs:  16%|#6        | 49/300 [00:00<00:03, 81.55it/s, acc=1.000, loss=0.442]\r",
      "Epochs:  16%|#6        | 49/300 [00:00<00:03, 81.01it/s, acc=1.000, loss=0.435]\r",
      "Epochs:  16%|#6        | 49/300 [00:00<00:03, 80.41it/s, acc=1.000, loss=0.427]\r",
      "Epochs:  16%|#6        | 49/300 [00:00<00:03, 79.43it/s, acc=1.000, loss=0.420]\r",
      "Epochs:  16%|#6        | 49/300 [00:00<00:03, 78.89it/s, acc=1.000, loss=0.416]\r",
      "Epochs:  16%|#6        | 49/300 [00:00<00:03, 78.35it/s, acc=1.000, loss=0.412]\r",
      "Epochs:  16%|#6        | 49/300 [00:00<00:03, 77.85it/s, acc=1.000, loss=0.410]\r",
      "Epochs:  16%|#6        | 49/300 [00:00<00:03, 77.36it/s, acc=1.000, loss=0.408]\r",
      "Epochs:  16%|#6        | 49/300 [00:00<00:03, 76.86it/s, acc=1.000, loss=0.406]\r",
      "Epochs:  16%|#6        | 49/300 [00:00<00:03, 76.36it/s, acc=1.000, loss=0.397]\r",
      "Epochs:  16%|#6        | 49/300 [00:00<00:03, 75.89it/s, acc=1.000, loss=0.388]\r",
      "Epochs:  16%|#6        | 49/300 [00:00<00:03, 75.41it/s, acc=1.000, loss=0.387]\r",
      "Epochs:  16%|#6        | 49/300 [00:00<00:03, 74.94it/s, acc=1.000, loss=0.383]\r",
      "Epochs:  16%|#6        | 49/300 [00:00<00:03, 74.30it/s, acc=1.000, loss=0.376]\r",
      "Epochs:  16%|#6        | 49/300 [00:00<00:03, 73.82it/s, acc=1.000, loss=0.374]\r",
      "Epochs:  16%|#6        | 49/300 [00:00<00:03, 73.39it/s, acc=1.000, loss=0.375]\r",
      "Epochs:  24%|##4       | 72/300 [00:00<00:02, 107.83it/s, acc=1.000, loss=0.375]\r",
      "Epochs:  24%|##4       | 72/300 [00:00<00:02, 107.17it/s, acc=1.000, loss=0.373]\r",
      "Epochs:  24%|##4       | 72/300 [00:00<00:02, 106.54it/s, acc=1.000, loss=0.363]\r",
      "Epochs:  24%|##4       | 72/300 [00:00<00:02, 105.90it/s, acc=1.000, loss=0.360]\r",
      "Epochs:  24%|##4       | 72/300 [00:00<00:02, 105.29it/s, acc=1.000, loss=0.359]\r",
      "Epochs:  24%|##4       | 72/300 [00:00<00:02, 104.64it/s, acc=1.000, loss=0.349]\r",
      "Epochs:  24%|##4       | 72/300 [00:00<00:02, 104.03it/s, acc=1.000, loss=0.344]\r",
      "Epochs:  24%|##4       | 72/300 [00:00<00:02, 103.41it/s, acc=1.000, loss=0.343]\r",
      "Epochs:  24%|##4       | 72/300 [00:00<00:02, 102.63it/s, acc=1.000, loss=0.338]\r",
      "Epochs:  24%|##4       | 72/300 [00:00<00:02, 102.07it/s, acc=1.000, loss=0.338]\r",
      "Epochs:  24%|##4       | 72/300 [00:00<00:02, 101.49it/s, acc=1.000, loss=0.329]\r",
      "Epochs:  24%|##4       | 72/300 [00:00<00:02, 100.89it/s, acc=1.000, loss=0.327]\r",
      "Epochs:  24%|##4       | 72/300 [00:00<00:02, 100.33it/s, acc=1.000, loss=0.326]\r",
      "Epochs:  24%|##4       | 72/300 [00:00<00:02, 99.74it/s, acc=1.000, loss=0.321] \r",
      "Epochs:  24%|##4       | 72/300 [00:00<00:02, 99.19it/s, acc=1.000, loss=0.318]\r",
      "Epochs:  24%|##4       | 72/300 [00:00<00:02, 98.66it/s, acc=1.000, loss=0.317]\r",
      "Epochs:  24%|##4       | 72/300 [00:00<00:02, 98.12it/s, acc=1.000, loss=0.310]\r",
      "Epochs:  24%|##4       | 72/300 [00:00<00:02, 97.53it/s, acc=1.000, loss=0.307]\r",
      "Epochs:  24%|##4       | 72/300 [00:00<00:02, 96.84it/s, acc=1.000, loss=0.304]\r",
      "Epochs:  24%|##4       | 72/300 [00:00<00:02, 96.34it/s, acc=1.000, loss=0.299]\r",
      "Epochs:  24%|##4       | 72/300 [00:00<00:02, 95.80it/s, acc=1.000, loss=0.299]\r",
      "Epochs:  24%|##4       | 72/300 [00:00<00:02, 95.26it/s, acc=1.000, loss=0.293]\r",
      "Epochs:  24%|##4       | 72/300 [00:00<00:02, 94.75it/s, acc=1.000, loss=0.293]\r",
      "Epochs:  24%|##4       | 72/300 [00:00<00:02, 94.25it/s, acc=1.000, loss=0.287]\r",
      "Epochs:  24%|##4       | 72/300 [00:00<00:02, 93.76it/s, acc=1.000, loss=0.284]\r",
      "Epochs:  32%|###2      | 96/300 [00:00<00:01, 125.01it/s, acc=1.000, loss=0.284]\r",
      "Epochs:  32%|###2      | 96/300 [00:00<00:01, 124.36it/s, acc=1.000, loss=0.284]\r",
      "Epochs:  32%|###2      | 96/300 [00:00<00:01, 123.72it/s, acc=1.000, loss=0.279]\r",
      "Epochs:  32%|###2      | 96/300 [00:00<00:01, 123.09it/s, acc=1.000, loss=0.277]\r",
      "Epochs:  32%|###2      | 96/300 [00:00<00:01, 122.28it/s, acc=1.000, loss=0.274]\r",
      "Epochs:  32%|###2      | 96/300 [00:00<00:01, 121.63it/s, acc=1.000, loss=0.272]\r",
      "Epochs:  32%|###2      | 96/300 [00:00<00:01, 121.02it/s, acc=1.000, loss=0.272]\r",
      "Epochs:  32%|###2      | 96/300 [00:00<00:01, 120.42it/s, acc=1.000, loss=0.267]\r",
      "Epochs:  32%|###2      | 96/300 [00:00<00:01, 119.81it/s, acc=1.000, loss=0.267]\r",
      "Epochs:  32%|###2      | 96/300 [00:00<00:01, 119.21it/s, acc=1.000, loss=0.263]\r",
      "Epochs:  32%|###2      | 96/300 [00:00<00:01, 118.63it/s, acc=1.000, loss=0.262]\r",
      "Epochs:  32%|###2      | 96/300 [00:00<00:01, 118.05it/s, acc=1.000, loss=0.260]\r",
      "Epochs:  32%|###2      | 96/300 [00:00<00:01, 117.46it/s, acc=1.000, loss=0.260]\r",
      "Epochs:  32%|###2      | 96/300 [00:00<00:01, 116.89it/s, acc=1.000, loss=0.256]\r",
      "Epochs:  32%|###2      | 96/300 [00:00<00:01, 116.14it/s, acc=1.000, loss=0.254]\r",
      "Epochs:  32%|###2      | 96/300 [00:00<00:01, 115.60it/s, acc=1.000, loss=0.260]\r",
      "Epochs:  32%|###2      | 96/300 [00:00<00:01, 115.03it/s, acc=1.000, loss=0.251]\r",
      "Epochs:  32%|###2      | 96/300 [00:00<00:01, 114.46it/s, acc=1.000, loss=0.251]\r",
      "Epochs:  32%|###2      | 96/300 [00:00<00:01, 113.92it/s, acc=1.000, loss=0.247]\r",
      "Epochs:  32%|###2      | 96/300 [00:00<00:01, 113.39it/s, acc=1.000, loss=0.252]\r",
      "Epochs:  32%|###2      | 96/300 [00:00<00:01, 112.86it/s, acc=1.000, loss=0.245]\r",
      "Epochs:  32%|###2      | 96/300 [00:00<00:01, 112.24it/s, acc=1.000, loss=0.246]\r",
      "Epochs:  32%|###2      | 96/300 [00:00<00:01, 111.66it/s, acc=1.000, loss=0.243]\r",
      "Epochs:  32%|###2      | 96/300 [00:00<00:01, 111.12it/s, acc=1.000, loss=0.238]\r",
      "Epochs:  32%|###2      | 96/300 [00:00<00:01, 110.21it/s, acc=1.000, loss=0.237]\r",
      "Epochs:  40%|####      | 120/300 [00:00<00:01, 137.75it/s, acc=1.000, loss=0.237]\r",
      "Epochs:  40%|####      | 120/300 [00:00<00:01, 137.05it/s, acc=1.000, loss=0.234]\r",
      "Epochs:  40%|####      | 120/300 [00:00<00:01, 136.41it/s, acc=1.000, loss=0.235]\r",
      "Epochs:  40%|####      | 120/300 [00:00<00:01, 135.77it/s, acc=1.000, loss=0.231]\r",
      "Epochs:  40%|####      | 120/300 [00:00<00:01, 135.14it/s, acc=1.000, loss=0.232]\r",
      "Epochs:  40%|####      | 120/300 [00:00<00:01, 134.50it/s, acc=1.000, loss=0.230]\r",
      "Epochs:  40%|####      | 120/300 [00:00<00:01, 133.90it/s, acc=1.000, loss=0.230]\r",
      "Epochs:  40%|####      | 120/300 [00:00<00:01, 133.29it/s, acc=1.000, loss=0.227]\r",
      "Epochs:  40%|####      | 120/300 [00:00<00:01, 132.71it/s, acc=1.000, loss=0.226]\r",
      "Epochs:  40%|####      | 120/300 [00:00<00:01, 132.09it/s, acc=1.000, loss=0.223]\r",
      "Epochs:  40%|####      | 120/300 [00:00<00:01, 131.34it/s, acc=1.000, loss=0.226]\r",
      "Epochs:  40%|####      | 120/300 [00:00<00:01, 130.78it/s, acc=1.000, loss=0.219]\r",
      "Epochs:  40%|####      | 120/300 [00:00<00:01, 130.20it/s, acc=1.000, loss=0.220]\r",
      "Epochs:  40%|####      | 120/300 [00:00<00:01, 129.63it/s, acc=1.000, loss=0.216]\r",
      "Epochs:  40%|####      | 120/300 [00:00<00:01, 129.09it/s, acc=1.000, loss=0.215]\r",
      "Epochs:  40%|####      | 120/300 [00:00<00:01, 128.55it/s, acc=1.000, loss=0.214]\r",
      "Epochs:  40%|####      | 120/300 [00:00<00:01, 127.99it/s, acc=1.000, loss=0.215]\r",
      "Epochs:  40%|####      | 120/300 [00:00<00:01, 127.44it/s, acc=1.000, loss=0.212]\r",
      "Epochs:  40%|####      | 120/300 [00:00<00:01, 126.92it/s, acc=1.000, loss=0.209]\r",
      "Epochs:  40%|####      | 120/300 [00:00<00:01, 126.38it/s, acc=1.000, loss=0.209]\r",
      "Epochs:  40%|####      | 120/300 [00:00<00:01, 125.68it/s, acc=1.000, loss=0.206]\r",
      "Epochs:  40%|####      | 120/300 [00:00<00:01, 125.14it/s, acc=1.000, loss=0.205]\r",
      "Epochs:  40%|####      | 120/300 [00:00<00:01, 124.53it/s, acc=1.000, loss=0.205]\r",
      "Epochs:  40%|####      | 120/300 [00:00<00:01, 124.02it/s, acc=1.000, loss=0.202]\r",
      "Epochs:  40%|####      | 120/300 [00:00<00:01, 123.51it/s, acc=1.000, loss=0.202]\r",
      "Epochs:  48%|####8     | 144/300 [00:00<00:01, 148.20it/s, acc=1.000, loss=0.202]\r",
      "Epochs:  48%|####8     | 144/300 [00:00<00:01, 147.61it/s, acc=1.000, loss=0.199]\r",
      "Epochs:  48%|####8     | 144/300 [00:00<00:01, 147.01it/s, acc=1.000, loss=0.199]\r",
      "Epochs:  48%|####8     | 144/300 [00:00<00:01, 146.42it/s, acc=1.000, loss=0.198]\r",
      "Epochs:  48%|####8     | 144/300 [00:00<00:01, 145.77it/s, acc=1.000, loss=0.196]\r",
      "Epochs:  48%|####8     | 144/300 [00:00<00:01, 145.17it/s, acc=1.000, loss=0.202]\r",
      "Epochs:  48%|####8     | 144/300 [00:00<00:01, 144.42it/s, acc=1.000, loss=0.198]\r",
      "Epochs:  48%|####8     | 144/300 [00:01<00:01, 143.84it/s, acc=1.000, loss=0.192]\r",
      "Epochs:  48%|####8     | 144/300 [00:01<00:01, 143.26it/s, acc=1.000, loss=0.192]\r",
      "Epochs:  48%|####8     | 144/300 [00:01<00:01, 142.69it/s, acc=1.000, loss=0.191]\r",
      "Epochs:  48%|####8     | 144/300 [00:01<00:01, 142.13it/s, acc=1.000, loss=0.191]\r",
      "Epochs:  48%|####8     | 144/300 [00:01<00:01, 141.57it/s, acc=1.000, loss=0.190]\r",
      "Epochs:  48%|####8     | 144/300 [00:01<00:01, 141.01it/s, acc=1.000, loss=0.186]\r",
      "Epochs:  48%|####8     | 144/300 [00:01<00:01, 140.47it/s, acc=1.000, loss=0.184]\r",
      "Epochs:  48%|####8     | 144/300 [00:01<00:01, 139.93it/s, acc=1.000, loss=0.187]\r",
      "Epochs:  48%|####8     | 144/300 [00:01<00:01, 139.39it/s, acc=1.000, loss=0.185]\r",
      "Epochs:  48%|####8     | 144/300 [00:01<00:01, 138.69it/s, acc=1.000, loss=0.181]\r",
      "Epochs:  48%|####8     | 144/300 [00:01<00:01, 137.94it/s, acc=1.000, loss=0.180]\r",
      "Epochs:  48%|####8     | 144/300 [00:01<00:01, 137.42it/s, acc=1.000, loss=0.182]\r",
      "Epochs:  48%|####8     | 144/300 [00:01<00:01, 136.89it/s, acc=1.000, loss=0.179]\r",
      "Epochs:  48%|####8     | 144/300 [00:01<00:01, 136.36it/s, acc=1.000, loss=0.177]\r",
      "Epochs:  48%|####8     | 144/300 [00:01<00:01, 135.86it/s, acc=1.000, loss=0.177]\r",
      "Epochs:  48%|####8     | 144/300 [00:01<00:01, 135.36it/s, acc=1.000, loss=0.174]\r",
      "Epochs:  48%|####8     | 144/300 [00:01<00:01, 134.86it/s, acc=1.000, loss=0.175]\r",
      "Epochs:  48%|####8     | 144/300 [00:01<00:01, 134.36it/s, acc=1.000, loss=0.173]\r",
      "Epochs:  56%|#####6    | 168/300 [00:01<00:00, 156.75it/s, acc=1.000, loss=0.173]\r",
      "Epochs:  56%|#####6    | 168/300 [00:01<00:00, 156.18it/s, acc=1.000, loss=0.172]\r",
      "Epochs:  56%|#####6    | 168/300 [00:01<00:00, 155.43it/s, acc=1.000, loss=0.170]\r",
      "Epochs:  56%|#####6    | 168/300 [00:01<00:00, 154.86it/s, acc=1.000, loss=0.170]\r",
      "Epochs:  56%|#####6    | 168/300 [00:01<00:00, 154.25it/s, acc=1.000, loss=0.168]\r",
      "Epochs:  56%|#####6    | 168/300 [00:01<00:00, 153.69it/s, acc=1.000, loss=0.174]\r",
      "Epochs:  56%|#####6    | 168/300 [00:01<00:00, 153.13it/s, acc=1.000, loss=0.166]\r",
      "Epochs:  56%|#####6    | 168/300 [00:01<00:00, 152.58it/s, acc=1.000, loss=0.166]\r",
      "Epochs:  56%|#####6    | 168/300 [00:01<00:00, 152.04it/s, acc=1.000, loss=0.164]\r",
      "Epochs:  56%|#####6    | 168/300 [00:01<00:00, 151.49it/s, acc=1.000, loss=0.163]\r",
      "Epochs:  56%|#####6    | 168/300 [00:01<00:00, 150.94it/s, acc=1.000, loss=0.162]\r",
      "Epochs:  56%|#####6    | 168/300 [00:01<00:00, 150.40it/s, acc=1.000, loss=0.162]\r",
      "Epochs:  56%|#####6    | 168/300 [00:01<00:00, 149.65it/s, acc=1.000, loss=0.160]\r",
      "Epochs:  56%|#####6    | 168/300 [00:01<00:00, 149.08it/s, acc=1.000, loss=0.160]\r",
      "Epochs:  56%|#####6    | 168/300 [00:01<00:00, 148.54it/s, acc=1.000, loss=0.158]\r",
      "Epochs:  56%|#####6    | 168/300 [00:01<00:00, 148.00it/s, acc=1.000, loss=0.158]\r",
      "Epochs:  56%|#####6    | 168/300 [00:01<00:00, 147.48it/s, acc=1.000, loss=0.158]\r",
      "Epochs:  56%|#####6    | 168/300 [00:01<00:00, 146.92it/s, acc=1.000, loss=0.158]\r",
      "Epochs:  56%|#####6    | 168/300 [00:01<00:00, 146.39it/s, acc=1.000, loss=0.155]\r",
      "Epochs:  56%|#####6    | 168/300 [00:01<00:00, 145.86it/s, acc=1.000, loss=0.155]\r",
      "Epochs:  56%|#####6    | 168/300 [00:01<00:00, 145.35it/s, acc=1.000, loss=0.153]\r",
      "Epochs:  56%|#####6    | 168/300 [00:01<00:00, 144.82it/s, acc=1.000, loss=0.152]\r",
      "Epochs:  56%|#####6    | 168/300 [00:01<00:00, 144.15it/s, acc=1.000, loss=0.151]\r",
      "Epochs:  56%|#####6    | 168/300 [00:01<00:00, 143.63it/s, acc=1.000, loss=0.150]\r",
      "Epochs:  56%|#####6    | 168/300 [00:01<00:00, 143.08it/s, acc=1.000, loss=0.149]\r",
      "Epochs:  64%|######4   | 192/300 [00:01<00:00, 163.51it/s, acc=1.000, loss=0.149]\r",
      "Epochs:  64%|######4   | 192/300 [00:01<00:00, 162.89it/s, acc=1.000, loss=0.151]\r",
      "Epochs:  64%|######4   | 192/300 [00:01<00:00, 162.33it/s, acc=1.000, loss=0.148]\r",
      "Epochs:  64%|######4   | 192/300 [00:01<00:00, 161.77it/s, acc=1.000, loss=0.151]\r",
      "Epochs:  64%|######4   | 192/300 [00:01<00:00, 161.16it/s, acc=1.000, loss=0.147]\r",
      "Epochs:  64%|######4   | 192/300 [00:01<00:00, 160.58it/s, acc=1.000, loss=0.146]\r",
      "Epochs:  64%|######4   | 192/300 [00:01<00:00, 160.04it/s, acc=1.000, loss=0.146]\r",
      "Epochs:  64%|######4   | 192/300 [00:01<00:00, 159.50it/s, acc=1.000, loss=0.143]\r",
      "Epochs:  64%|######4   | 192/300 [00:01<00:00, 158.72it/s, acc=1.000, loss=0.142]\r",
      "Epochs:  64%|######4   | 192/300 [00:01<00:00, 158.16it/s, acc=1.000, loss=0.145]\r",
      "Epochs:  64%|######4   | 192/300 [00:01<00:00, 157.60it/s, acc=1.000, loss=0.142]\r",
      "Epochs:  64%|######4   | 192/300 [00:01<00:00, 157.03it/s, acc=1.000, loss=0.140]\r",
      "Epochs:  64%|######4   | 192/300 [00:01<00:00, 156.51it/s, acc=1.000, loss=0.140]\r",
      "Epochs:  64%|######4   | 192/300 [00:01<00:00, 156.01it/s, acc=1.000, loss=0.139]\r",
      "Epochs:  64%|######4   | 192/300 [00:01<00:00, 155.45it/s, acc=1.000, loss=0.139]\r",
      "Epochs:  64%|######4   | 192/300 [00:01<00:00, 154.90it/s, acc=1.000, loss=0.137]\r",
      "Epochs:  64%|######4   | 192/300 [00:01<00:00, 154.39it/s, acc=1.000, loss=0.136]\r",
      "Epochs:  64%|######4   | 192/300 [00:01<00:00, 153.91it/s, acc=1.000, loss=0.136]\r",
      "Epochs:  64%|######4   | 192/300 [00:01<00:00, 153.24it/s, acc=1.000, loss=0.140]\r",
      "Epochs:  64%|######4   | 192/300 [00:01<00:00, 152.68it/s, acc=1.000, loss=0.134]\r",
      "Epochs:  64%|######4   | 192/300 [00:01<00:00, 152.16it/s, acc=1.000, loss=0.133]\r",
      "Epochs:  64%|######4   | 192/300 [00:01<00:00, 151.66it/s, acc=1.000, loss=0.135]\r",
      "Epochs:  64%|######4   | 192/300 [00:01<00:00, 151.19it/s, acc=1.000, loss=0.136]\r",
      "Epochs:  64%|######4   | 192/300 [00:01<00:00, 150.70it/s, acc=1.000, loss=0.131]\r",
      "Epochs:  64%|######4   | 192/300 [00:01<00:00, 150.22it/s, acc=1.000, loss=0.132]\r",
      "Epochs:  72%|#######2  | 216/300 [00:01<00:00, 168.99it/s, acc=1.000, loss=0.132]\r",
      "Epochs:  72%|#######2  | 216/300 [00:01<00:00, 168.46it/s, acc=1.000, loss=0.131]\r",
      "Epochs:  72%|#######2  | 216/300 [00:01<00:00, 167.93it/s, acc=1.000, loss=0.129]\r",
      "Epochs:  72%|#######2  | 216/300 [00:01<00:00, 167.34it/s, acc=1.000, loss=0.131]\r",
      "Epochs:  72%|#######2  | 216/300 [00:01<00:00, 166.63it/s, acc=1.000, loss=0.127]\r",
      "Epochs:  72%|#######2  | 216/300 [00:01<00:00, 166.12it/s, acc=1.000, loss=0.128]\r",
      "Epochs:  72%|#######2  | 216/300 [00:01<00:00, 165.60it/s, acc=1.000, loss=0.126]\r",
      "Epochs:  72%|#######2  | 216/300 [00:01<00:00, 165.09it/s, acc=1.000, loss=0.125]\r",
      "Epochs:  72%|#######2  | 216/300 [00:01<00:00, 164.58it/s, acc=1.000, loss=0.125]\r",
      "Epochs:  72%|#######2  | 216/300 [00:01<00:00, 164.09it/s, acc=1.000, loss=0.127]\r",
      "Epochs:  72%|#######2  | 216/300 [00:01<00:00, 163.58it/s, acc=1.000, loss=0.124]\r",
      "Epochs:  72%|#######2  | 216/300 [00:01<00:00, 163.09it/s, acc=1.000, loss=0.123]\r",
      "Epochs:  72%|#######2  | 216/300 [00:01<00:00, 162.60it/s, acc=1.000, loss=0.124]\r",
      "Epochs:  72%|#######2  | 216/300 [00:01<00:00, 162.12it/s, acc=1.000, loss=0.122]\r",
      "Epochs:  72%|#######2  | 216/300 [00:01<00:00, 161.46it/s, acc=1.000, loss=0.121]\r",
      "Epochs:  72%|#######2  | 216/300 [00:01<00:00, 160.99it/s, acc=1.000, loss=0.122]\r",
      "Epochs:  72%|#######2  | 216/300 [00:01<00:00, 160.52it/s, acc=1.000, loss=0.121]\r",
      "Epochs:  72%|#######2  | 216/300 [00:01<00:00, 160.04it/s, acc=1.000, loss=0.119]\r",
      "Epochs:  72%|#######2  | 216/300 [00:01<00:00, 159.56it/s, acc=1.000, loss=0.119]\r",
      "Epochs:  72%|#######2  | 216/300 [00:01<00:00, 159.08it/s, acc=1.000, loss=0.118]\r",
      "Epochs:  72%|#######2  | 216/300 [00:01<00:00, 158.62it/s, acc=1.000, loss=0.117]\r",
      "Epochs:  72%|#######2  | 216/300 [00:01<00:00, 158.16it/s, acc=1.000, loss=0.116]\r",
      "Epochs:  72%|#######2  | 216/300 [00:01<00:00, 157.69it/s, acc=1.000, loss=0.118]\r",
      "Epochs:  72%|#######2  | 216/300 [00:01<00:00, 157.19it/s, acc=1.000, loss=0.118]\r",
      "Epochs:  72%|#######2  | 216/300 [00:01<00:00, 156.28it/s, acc=1.000, loss=0.117]\r",
      "Epochs:  80%|########  | 240/300 [00:01<00:00, 173.64it/s, acc=1.000, loss=0.117]\r",
      "Epochs:  80%|########  | 240/300 [00:01<00:00, 173.04it/s, acc=1.000, loss=0.115]\r",
      "Epochs:  80%|########  | 240/300 [00:01<00:00, 172.43it/s, acc=1.000, loss=0.116]\r",
      "Epochs:  80%|########  | 240/300 [00:01<00:00, 171.87it/s, acc=1.000, loss=0.114]\r",
      "Epochs:  80%|########  | 240/300 [00:01<00:00, 171.34it/s, acc=1.000, loss=0.115]\r",
      "Epochs:  80%|########  | 240/300 [00:01<00:00, 170.84it/s, acc=1.000, loss=0.112]\r",
      "Epochs:  80%|########  | 240/300 [00:01<00:00, 170.31it/s, acc=1.000, loss=0.113]\r",
      "Epochs:  80%|########  | 240/300 [00:01<00:00, 169.83it/s, acc=1.000, loss=0.113]\r",
      "Epochs:  80%|########  | 240/300 [00:01<00:00, 169.32it/s, acc=1.000, loss=0.110]\r",
      "Epochs:  80%|########  | 240/300 [00:01<00:00, 168.85it/s, acc=1.000, loss=0.110]\r",
      "Epochs:  80%|########  | 240/300 [00:01<00:00, 168.20it/s, acc=1.000, loss=0.111]\r",
      "Epochs:  80%|########  | 240/300 [00:01<00:00, 167.75it/s, acc=1.000, loss=0.109]\r",
      "Epochs:  80%|########  | 240/300 [00:01<00:00, 167.27it/s, acc=1.000, loss=0.113]\r",
      "Epochs:  80%|########  | 240/300 [00:01<00:00, 166.81it/s, acc=1.000, loss=0.108]\r",
      "Epochs:  80%|########  | 240/300 [00:01<00:00, 166.32it/s, acc=1.000, loss=0.108]\r",
      "Epochs:  80%|########  | 240/300 [00:01<00:00, 165.85it/s, acc=1.000, loss=0.107]\r",
      "Epochs:  80%|########  | 240/300 [00:01<00:00, 165.40it/s, acc=1.000, loss=0.107]\r",
      "Epochs:  80%|########  | 240/300 [00:01<00:00, 164.90it/s, acc=1.000, loss=0.105]\r",
      "Epochs:  80%|########  | 240/300 [00:01<00:00, 164.44it/s, acc=1.000, loss=0.110]\r",
      "Epochs:  80%|########  | 240/300 [00:01<00:00, 163.99it/s, acc=1.000, loss=0.105]\r",
      "Epochs:  80%|########  | 240/300 [00:01<00:00, 163.42it/s, acc=1.000, loss=0.104]\r",
      "Epochs:  80%|########  | 240/300 [00:01<00:00, 162.93it/s, acc=1.000, loss=0.104]\r",
      "Epochs:  80%|########  | 240/300 [00:01<00:00, 162.47it/s, acc=1.000, loss=0.103]\r",
      "Epochs:  80%|########  | 240/300 [00:01<00:00, 162.00it/s, acc=1.000, loss=0.103]\r",
      "Epochs:  80%|########  | 240/300 [00:01<00:00, 161.57it/s, acc=1.000, loss=0.102]\r",
      "Epochs:  88%|########8 | 264/300 [00:01<00:00, 177.72it/s, acc=1.000, loss=0.102]\r",
      "Epochs:  88%|########8 | 264/300 [00:01<00:00, 177.16it/s, acc=1.000, loss=0.101]\r",
      "Epochs:  88%|########8 | 264/300 [00:01<00:00, 176.67it/s, acc=1.000, loss=0.102]\r",
      "Epochs:  88%|########8 | 264/300 [00:01<00:00, 176.19it/s, acc=1.000, loss=0.104]\r",
      "Epochs:  88%|########8 | 264/300 [00:01<00:00, 175.73it/s, acc=1.000, loss=0.101]\r",
      "Epochs:  88%|########8 | 264/300 [00:01<00:00, 175.21it/s, acc=1.000, loss=0.101]\r",
      "Epochs:  88%|########8 | 264/300 [00:01<00:00, 174.60it/s, acc=1.000, loss=0.099]\r",
      "Epochs:  88%|########8 | 264/300 [00:01<00:00, 174.15it/s, acc=1.000, loss=0.099]\r",
      "Epochs:  88%|########8 | 264/300 [00:01<00:00, 173.64it/s, acc=1.000, loss=0.099]\r",
      "Epochs:  88%|########8 | 264/300 [00:01<00:00, 173.17it/s, acc=1.000, loss=0.098]\r",
      "Epochs:  88%|########8 | 264/300 [00:01<00:00, 172.70it/s, acc=1.000, loss=0.097]\r",
      "Epochs:  88%|########8 | 264/300 [00:01<00:00, 172.25it/s, acc=1.000, loss=0.097]\r",
      "Epochs:  88%|########8 | 264/300 [00:01<00:00, 171.80it/s, acc=1.000, loss=0.102]\r",
      "Epochs:  88%|########8 | 264/300 [00:01<00:00, 171.35it/s, acc=1.000, loss=0.098]\r",
      "Epochs:  88%|########8 | 264/300 [00:01<00:00, 170.81it/s, acc=1.000, loss=0.096]\r",
      "Epochs:  88%|########8 | 264/300 [00:01<00:00, 170.31it/s, acc=1.000, loss=0.095]\r",
      "Epochs:  88%|########8 | 264/300 [00:01<00:00, 169.44it/s, acc=1.000, loss=0.099]\r",
      "Epochs:  88%|########8 | 264/300 [00:01<00:00, 168.74it/s, acc=1.000, loss=0.095]\r",
      "Epochs:  88%|########8 | 264/300 [00:01<00:00, 168.30it/s, acc=1.000, loss=0.095]\r",
      "Epochs:  88%|########8 | 264/300 [00:01<00:00, 167.83it/s, acc=1.000, loss=0.101]\r",
      "Epochs:  88%|########8 | 264/300 [00:01<00:00, 167.39it/s, acc=1.000, loss=0.096]\r",
      "Epochs:  88%|########8 | 264/300 [00:01<00:00, 166.96it/s, acc=1.000, loss=0.094]\r",
      "Epochs:  88%|########8 | 264/300 [00:01<00:00, 166.47it/s, acc=1.000, loss=0.092]\r",
      "Epochs:  88%|########8 | 264/300 [00:01<00:00, 166.02it/s, acc=1.000, loss=0.092]\r",
      "Epochs:  96%|#########5| 287/300 [00:01<00:00, 180.47it/s, acc=1.000, loss=0.092]\r",
      "Epochs:  96%|#########5| 287/300 [00:01<00:00, 180.00it/s, acc=1.000, loss=0.092]\r",
      "Epochs:  96%|#########5| 287/300 [00:01<00:00, 179.56it/s, acc=1.000, loss=0.097]\r",
      "Epochs:  96%|#########5| 287/300 [00:01<00:00, 178.97it/s, acc=1.000, loss=0.093]\r",
      "Epochs:  96%|#########5| 287/300 [00:01<00:00, 178.52it/s, acc=1.000, loss=0.095]\r",
      "Epochs:  96%|#########5| 287/300 [00:01<00:00, 178.07it/s, acc=1.000, loss=0.091]\r",
      "Epochs:  96%|#########5| 287/300 [00:01<00:00, 177.63it/s, acc=1.000, loss=0.090]\r",
      "Epochs:  96%|#########5| 287/300 [00:01<00:00, 177.16it/s, acc=1.000, loss=0.092]\r",
      "Epochs:  96%|#########5| 287/300 [00:01<00:00, 176.70it/s, acc=1.000, loss=0.090]\r",
      "Epochs:  96%|#########5| 287/300 [00:01<00:00, 176.27it/s, acc=1.000, loss=0.093]\r",
      "Epochs:  96%|#########5| 287/300 [00:01<00:00, 175.84it/s, acc=1.000, loss=0.093]\r",
      "Epochs:  96%|#########5| 287/300 [00:01<00:00, 175.35it/s, acc=1.000, loss=0.089]\r",
      "Epochs:  96%|#########5| 287/300 [00:01<00:00, 174.91it/s, acc=1.000, loss=0.089]\r",
      "Epochs:  96%|#########5| 287/300 [00:01<00:00, 174.34it/s, acc=1.000, loss=0.089]\r",
      "Epochs: 100%|##########| 300/300 [00:01<00:00, 178.48it/s, acc=1.000, loss=0.089]\n",
      "2018-11-11 14:34:05 INFO     rasa_nlu.classifiers.embedding_intent_classifier  - Finished training embedding policy, loss=0.089, train accuracy=1.000\n",
      "2018-11-11 14:34:05 INFO     rasa_nlu.model  - Finished training component.\n",
      "2018-11-11 14:34:05 INFO     rasa_nlu.model  - Successfully saved model into '/Volumes/BOOTCAMP/Code/python/carpricing-bot/models/current/nlu'\n",
      "2018-11-11 14:34:05 INFO     __main__  - Finished training\n"
     ]
    }
   ],
   "source": [
    "%%bash\n",
    "\n",
    "# export LC_ALL=en_US.UTF-8\n",
    "# export LANG=en_US.UTF-8\n",
    "python -m rasa_nlu.train -c nlu_config.yml --data data/nlu_data.md -o models --fixed_model_name nlu --project current --verbose"
   ]
  },
  {
   "cell_type": "code",
   "execution_count": 3,
   "metadata": {
    "collapsed": true
   },
   "outputs": [],
   "source": [
    "from duckling import DucklingWrapper"
   ]
  },
  {
   "cell_type": "code",
   "execution_count": 4,
   "metadata": {
    "collapsed": true
   },
   "outputs": [],
   "source": [
    "d = DucklingWrapper()\n"
   ]
  },
  {
   "cell_type": "code",
   "execution_count": 5,
   "metadata": {
    "collapsed": true
   },
   "outputs": [],
   "source": [
    "dt = d.parse_time(u'birth date is 20Oct 2018')"
   ]
  },
  {
   "cell_type": "code",
   "execution_count": 6,
   "metadata": {
    "collapsed": false
   },
   "outputs": [
    {
     "data": {
      "text/plain": [
       "[]"
      ]
     },
     "execution_count": 6,
     "metadata": {},
     "output_type": "execute_result"
    }
   ],
   "source": [
    "[d['text'] for d in dt if d['value']['grain'] == u'year']"
   ]
  },
  {
   "cell_type": "code",
   "execution_count": 272,
   "metadata": {
    "collapsed": false
   },
   "outputs": [
    {
     "data": {
      "text/plain": [
       "[{u'dim': u'time',\n",
       "  u'end': 24,\n",
       "  u'start': 14,\n",
       "  u'text': u'20Oct 2018',\n",
       "  u'value': {u'grain': u'day',\n",
       "   u'others': [{u'grain': u'day', u'value': u'2018-10-20T00:00:00.000+08:00'}],\n",
       "   u'value': u'2018-10-20T00:00:00.000+08:00'}}]"
      ]
     },
     "execution_count": 272,
     "metadata": {},
     "output_type": "execute_result"
    }
   ],
   "source": [
    "dt"
   ]
  },
  {
   "cell_type": "code",
   "execution_count": null,
   "metadata": {
    "collapsed": true
   },
   "outputs": [],
   "source": [
    "import datetime as DT\n"
   ]
  },
  {
   "cell_type": "code",
   "execution_count": 238,
   "metadata": {
    "collapsed": false
   },
   "outputs": [
    {
     "data": {
      "text/plain": [
       "Timestamp('2020-10-10 00:00:00')"
      ]
     },
     "execution_count": 238,
     "metadata": {},
     "output_type": "execute_result"
    }
   ],
   "source": [
    "pd.to_datetime(dt[0]['value']['value'][:10])"
   ]
  },
  {
   "cell_type": "code",
   "execution_count": 235,
   "metadata": {
    "collapsed": false
   },
   "outputs": [
    {
     "data": {
      "text/plain": [
       "-701"
      ]
     },
     "execution_count": 235,
     "metadata": {},
     "output_type": "execute_result"
    }
   ],
   "source": [
    "(pd.Timestamp(DT.datetime.now()) -  pd.to_datetime(dt[0]['value']['value'][:10])).days"
   ]
  },
  {
   "cell_type": "code",
   "execution_count": 218,
   "metadata": {
    "collapsed": false
   },
   "outputs": [
    {
     "data": {
      "text/plain": [
       "Timedelta('1500 days 16:53:03.614855')"
      ]
     },
     "execution_count": 218,
     "metadata": {},
     "output_type": "execute_result"
    }
   ],
   "source": [
    "(pd.datetime.now() - pd.to_datetime(dt[0]['value']['value'][:10]))"
   ]
  },
  {
   "cell_type": "code",
   "execution_count": 206,
   "metadata": {
    "collapsed": false
   },
   "outputs": [
    {
     "data": {
      "text/plain": [
       "u'2014-10-01T00:00:00.000+08:00'"
      ]
     },
     "execution_count": 206,
     "metadata": {},
     "output_type": "execute_result"
    }
   ],
   "source": [
    "dt[0]['value']['value']"
   ]
  },
  {
   "cell_type": "code",
   "execution_count": 10,
   "metadata": {
    "collapsed": false
   },
   "outputs": [
    {
     "name": "stdout",
     "output_type": "stream",
     "text": [
      "INFO:tensorflow:Restoring parameters from ./models/current/nlu/intent_classifier_tensorflow_embedding.ckpt\n"
     ]
    }
   ],
   "source": [
    "from rasa_nlu.model import Interpreter\n",
    "import json\n",
    "interpreter = Interpreter.load(\"./models/current/nlu\")\n"
   ]
  },
  {
   "cell_type": "code",
   "execution_count": 11,
   "metadata": {
    "collapsed": false
   },
   "outputs": [
    {
     "name": "stdout",
     "output_type": "stream",
     "text": [
      "{\n",
      "  \"entities\": [\n",
      "    {\n",
      "      \"extractor\": \"ner_duckling\", \n",
      "      \"confidence\": 1.0, \n",
      "      \"end\": 29, \n",
      "      \"text\": \"20Oct 2020\", \n",
      "      \"value\": \"2020-10-20T00:00:00.000Z\", \n",
      "      \"entity\": \"time\", \n",
      "      \"start\": 19, \n",
      "      \"additional_info\": {\n",
      "        \"grain\": \"day\", \n",
      "        \"value\": \"2020-10-20T00:00:00.000Z\", \n",
      "        \"others\": [\n",
      "          {\n",
      "            \"grain\": \"day\", \n",
      "            \"value\": \"2020-10-20T00:00:00.000Z\"\n",
      "          }\n",
      "        ]\n",
      "      }\n",
      "    }\n",
      "  ], \n",
      "  \"intent\": {\n",
      "    \"confidence\": 0.7302823066711426, \n",
      "    \"name\": \"expire_date\"\n",
      "  }, \n",
      "  \"text\": \"expiration date is 20Oct 2020\", \n",
      "  \"intent_ranking\": [\n",
      "    {\n",
      "      \"confidence\": 0.7302823066711426, \n",
      "      \"name\": \"expire_date\"\n",
      "    }, \n",
      "    {\n",
      "      \"confidence\": 0.43963658809661865, \n",
      "      \"name\": \"name\"\n",
      "    }, \n",
      "    {\n",
      "      \"confidence\": 0.12008696794509888, \n",
      "      \"name\": \"thank\"\n",
      "    }, \n",
      "    {\n",
      "      \"confidence\": 0.03651262819766998, \n",
      "      \"name\": \"pricing\"\n",
      "    }, \n",
      "    {\n",
      "      \"confidence\": 0.0, \n",
      "      \"name\": \"year_model\"\n",
      "    }, \n",
      "    {\n",
      "      \"confidence\": 0.0, \n",
      "      \"name\": \"goodbye\"\n",
      "    }, \n",
      "    {\n",
      "      \"confidence\": 0.0, \n",
      "      \"name\": \"car_model\"\n",
      "    }, \n",
      "    {\n",
      "      \"confidence\": 0.0, \n",
      "      \"name\": \"greet\"\n",
      "    }, \n",
      "    {\n",
      "      \"confidence\": 0.0, \n",
      "      \"name\": \"user_dob\"\n",
      "    }, \n",
      "    {\n",
      "      \"confidence\": 0.0, \n",
      "      \"name\": \"affirm\"\n",
      "    }\n",
      "  ]\n",
      "}\n"
     ]
    }
   ],
   "source": [
    "message = u\"expiration date is 20Oct 2020\"\n",
    "result = interpreter.parse(message)\n",
    "print(json.dumps(result, indent=2))"
   ]
  },
  {
   "cell_type": "code",
   "execution_count": 16,
   "metadata": {
    "collapsed": true
   },
   "outputs": [],
   "source": [
    "import re"
   ]
  },
  {
   "cell_type": "code",
   "execution_count": 25,
   "metadata": {
    "collapsed": true
   },
   "outputs": [],
   "source": [
    "x = r'[0-9]{4}[-/][0-9]{2}[-/][0-9]{2}'"
   ]
  },
  {
   "cell_type": "code",
   "execution_count": 28,
   "metadata": {
    "collapsed": false
   },
   "outputs": [
    {
     "data": {
      "text/plain": [
       "'1000/10/10'"
      ]
     },
     "execution_count": 28,
     "metadata": {},
     "output_type": "execute_result"
    }
   ],
   "source": [
    "re.match(string='1000/10/100', pattern=x).group()"
   ]
  },
  {
   "cell_type": "code",
   "execution_count": null,
   "metadata": {
    "collapsed": true
   },
   "outputs": [],
   "source": []
  }
 ],
 "metadata": {
  "kernelspec": {
   "display_name": "Python 2",
   "language": "python",
   "name": "python2"
  },
  "language_info": {
   "codemirror_mode": {
    "name": "ipython",
    "version": 2
   },
   "file_extension": ".py",
   "mimetype": "text/x-python",
   "name": "python",
   "nbconvert_exporter": "python",
   "pygments_lexer": "ipython2",
   "version": "2.7.13"
  }
 },
 "nbformat": 4,
 "nbformat_minor": 2
}
