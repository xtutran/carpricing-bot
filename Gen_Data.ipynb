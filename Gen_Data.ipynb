{
 "cells": [
  {
   "cell_type": "code",
   "execution_count": 43,
   "metadata": {
    "collapsed": true
   },
   "outputs": [],
   "source": [
    "import pandas as pd\n",
    "import numpy as np"
   ]
  },
  {
   "cell_type": "code",
   "execution_count": 44,
   "metadata": {
    "collapsed": true
   },
   "outputs": [],
   "source": [
    "df = pd.read_csv('data/data.csv')"
   ]
  },
  {
   "cell_type": "code",
   "execution_count": 45,
   "metadata": {},
   "outputs": [
    {
     "name": "stdout",
     "output_type": "stream",
     "text": [
      "<class 'pandas.core.frame.DataFrame'>\n",
      "RangeIndex: 11914 entries, 0 to 11913\n",
      "Data columns (total 16 columns):\n",
      "Make                 11914 non-null object\n",
      "Model                11914 non-null object\n",
      "Year                 11914 non-null int64\n",
      "Engine Fuel Type     11911 non-null object\n",
      "Engine HP            11845 non-null float64\n",
      "Engine Cylinders     11884 non-null float64\n",
      "Transmission Type    11914 non-null object\n",
      "Driven_Wheels        11914 non-null object\n",
      "Number of Doors      11908 non-null float64\n",
      "Market Category      8172 non-null object\n",
      "Vehicle Size         11914 non-null object\n",
      "Vehicle Style        11914 non-null object\n",
      "highway MPG          11914 non-null int64\n",
      "city mpg             11914 non-null int64\n",
      "Popularity           11914 non-null int64\n",
      "MSRP                 11914 non-null int64\n",
      "dtypes: float64(3), int64(5), object(8)\n",
      "memory usage: 1.5+ MB\n"
     ]
    }
   ],
   "source": [
    "df.info(memory_usage=True)"
   ]
  },
  {
   "cell_type": "code",
   "execution_count": 239,
   "metadata": {},
   "outputs": [
    {
     "data": {
      "text/html": [
       "<div>\n",
       "<style scoped>\n",
       "    .dataframe tbody tr th:only-of-type {\n",
       "        vertical-align: middle;\n",
       "    }\n",
       "\n",
       "    .dataframe tbody tr th {\n",
       "        vertical-align: top;\n",
       "    }\n",
       "\n",
       "    .dataframe thead th {\n",
       "        text-align: right;\n",
       "    }\n",
       "</style>\n",
       "<table border=\"1\" class=\"dataframe\">\n",
       "  <thead>\n",
       "    <tr style=\"text-align: right;\">\n",
       "      <th></th>\n",
       "      <th>Make</th>\n",
       "      <th>Model</th>\n",
       "      <th>Year</th>\n",
       "      <th>Engine Fuel Type</th>\n",
       "      <th>Engine HP</th>\n",
       "      <th>Engine Cylinders</th>\n",
       "      <th>Transmission Type</th>\n",
       "      <th>Driven_Wheels</th>\n",
       "      <th>Number of Doors</th>\n",
       "      <th>Market Category</th>\n",
       "      <th>Vehicle Size</th>\n",
       "      <th>Vehicle Style</th>\n",
       "      <th>highway MPG</th>\n",
       "      <th>city mpg</th>\n",
       "      <th>Popularity</th>\n",
       "      <th>MSRP</th>\n",
       "    </tr>\n",
       "  </thead>\n",
       "  <tbody>\n",
       "    <tr>\n",
       "      <th>0</th>\n",
       "      <td>BMW</td>\n",
       "      <td>1 Series M</td>\n",
       "      <td>2011</td>\n",
       "      <td>premium unleaded (required)</td>\n",
       "      <td>335.0</td>\n",
       "      <td>6.0</td>\n",
       "      <td>MANUAL</td>\n",
       "      <td>rear wheel drive</td>\n",
       "      <td>2.0</td>\n",
       "      <td>Factory Tuner,Luxury,High-Performance</td>\n",
       "      <td>Compact</td>\n",
       "      <td>Coupe</td>\n",
       "      <td>26</td>\n",
       "      <td>19</td>\n",
       "      <td>3916</td>\n",
       "      <td>46135</td>\n",
       "    </tr>\n",
       "    <tr>\n",
       "      <th>1</th>\n",
       "      <td>BMW</td>\n",
       "      <td>1 Series</td>\n",
       "      <td>2011</td>\n",
       "      <td>premium unleaded (required)</td>\n",
       "      <td>300.0</td>\n",
       "      <td>6.0</td>\n",
       "      <td>MANUAL</td>\n",
       "      <td>rear wheel drive</td>\n",
       "      <td>2.0</td>\n",
       "      <td>Luxury,Performance</td>\n",
       "      <td>Compact</td>\n",
       "      <td>Convertible</td>\n",
       "      <td>28</td>\n",
       "      <td>19</td>\n",
       "      <td>3916</td>\n",
       "      <td>40650</td>\n",
       "    </tr>\n",
       "    <tr>\n",
       "      <th>2</th>\n",
       "      <td>BMW</td>\n",
       "      <td>1 Series</td>\n",
       "      <td>2011</td>\n",
       "      <td>premium unleaded (required)</td>\n",
       "      <td>300.0</td>\n",
       "      <td>6.0</td>\n",
       "      <td>MANUAL</td>\n",
       "      <td>rear wheel drive</td>\n",
       "      <td>2.0</td>\n",
       "      <td>Luxury,High-Performance</td>\n",
       "      <td>Compact</td>\n",
       "      <td>Coupe</td>\n",
       "      <td>28</td>\n",
       "      <td>20</td>\n",
       "      <td>3916</td>\n",
       "      <td>36350</td>\n",
       "    </tr>\n",
       "    <tr>\n",
       "      <th>3</th>\n",
       "      <td>BMW</td>\n",
       "      <td>1 Series</td>\n",
       "      <td>2011</td>\n",
       "      <td>premium unleaded (required)</td>\n",
       "      <td>230.0</td>\n",
       "      <td>6.0</td>\n",
       "      <td>MANUAL</td>\n",
       "      <td>rear wheel drive</td>\n",
       "      <td>2.0</td>\n",
       "      <td>Luxury,Performance</td>\n",
       "      <td>Compact</td>\n",
       "      <td>Coupe</td>\n",
       "      <td>28</td>\n",
       "      <td>18</td>\n",
       "      <td>3916</td>\n",
       "      <td>29450</td>\n",
       "    </tr>\n",
       "    <tr>\n",
       "      <th>4</th>\n",
       "      <td>BMW</td>\n",
       "      <td>1 Series</td>\n",
       "      <td>2011</td>\n",
       "      <td>premium unleaded (required)</td>\n",
       "      <td>230.0</td>\n",
       "      <td>6.0</td>\n",
       "      <td>MANUAL</td>\n",
       "      <td>rear wheel drive</td>\n",
       "      <td>2.0</td>\n",
       "      <td>Luxury</td>\n",
       "      <td>Compact</td>\n",
       "      <td>Convertible</td>\n",
       "      <td>28</td>\n",
       "      <td>18</td>\n",
       "      <td>3916</td>\n",
       "      <td>34500</td>\n",
       "    </tr>\n",
       "  </tbody>\n",
       "</table>\n",
       "</div>"
      ],
      "text/plain": [
       "  Make       Model  Year             Engine Fuel Type  Engine HP  \\\n",
       "0  BMW  1 Series M  2011  premium unleaded (required)      335.0   \n",
       "1  BMW    1 Series  2011  premium unleaded (required)      300.0   \n",
       "2  BMW    1 Series  2011  premium unleaded (required)      300.0   \n",
       "3  BMW    1 Series  2011  premium unleaded (required)      230.0   \n",
       "4  BMW    1 Series  2011  premium unleaded (required)      230.0   \n",
       "\n",
       "   Engine Cylinders Transmission Type     Driven_Wheels  Number of Doors  \\\n",
       "0               6.0            MANUAL  rear wheel drive              2.0   \n",
       "1               6.0            MANUAL  rear wheel drive              2.0   \n",
       "2               6.0            MANUAL  rear wheel drive              2.0   \n",
       "3               6.0            MANUAL  rear wheel drive              2.0   \n",
       "4               6.0            MANUAL  rear wheel drive              2.0   \n",
       "\n",
       "                         Market Category Vehicle Size Vehicle Style  \\\n",
       "0  Factory Tuner,Luxury,High-Performance      Compact         Coupe   \n",
       "1                     Luxury,Performance      Compact   Convertible   \n",
       "2                Luxury,High-Performance      Compact         Coupe   \n",
       "3                     Luxury,Performance      Compact         Coupe   \n",
       "4                                 Luxury      Compact   Convertible   \n",
       "\n",
       "   highway MPG  city mpg  Popularity   MSRP  \n",
       "0           26        19        3916  46135  \n",
       "1           28        19        3916  40650  \n",
       "2           28        20        3916  36350  \n",
       "3           28        18        3916  29450  \n",
       "4           28        18        3916  34500  "
      ]
     },
     "execution_count": 239,
     "metadata": {},
     "output_type": "execute_result"
    }
   ],
   "source": [
    "df.head()"
   ]
  },
  {
   "cell_type": "markdown",
   "metadata": {},
   "source": [
    "- clean data"
   ]
  },
  {
   "cell_type": "code",
   "execution_count": 133,
   "metadata": {},
   "outputs": [],
   "source": [
    "df.Make = df.Make.str.replace(\"-\", \" \").replace(\"/\", \"\")\n",
    "df.Model = df.Model.str.replace(\"-\", \" \").replace(\"/\", \"\")"
   ]
  },
  {
   "cell_type": "code",
   "execution_count": 134,
   "metadata": {
    "collapsed": true
   },
   "outputs": [],
   "source": [
    "pd.DataFrame(df.Make.unique().tolist()).to_csv('data/make_list.txt', index=False, header=None)"
   ]
  },
  {
   "cell_type": "code",
   "execution_count": 135,
   "metadata": {
    "collapsed": true
   },
   "outputs": [],
   "source": [
    "pd.DataFrame(df.Model.unique().tolist()).to_csv('data/model_list.txt', index=False, header=None)"
   ]
  },
  {
   "cell_type": "code",
   "execution_count": 7,
   "metadata": {},
   "outputs": [
    {
     "name": "stdout",
     "output_type": "stream",
     "text": [
      "total 2000\r\n",
      "-rw-r--r--  1 txuantu  staff   14517 Nov  8 11:26 Gen_Data.ipynb\r\n",
      "-rw-r--r--  1 txuantu  staff   11357 Nov  8 10:18 LICENSE\r\n",
      "-rw-r--r--  1 txuantu  staff    1053 Nov  8 10:18 Makefile\r\n",
      "-rw-r--r--  1 txuantu  staff    4609 Nov  8 10:18 README.md\r\n",
      "-rw-r--r--  1 txuantu  staff     808 Nov  8 10:18 actions.py\r\n",
      "drwxr-xr-x  5 txuantu  staff     170 Nov  8 10:38 \u001b[1m\u001b[36mdata\u001b[m\u001b[m\r\n",
      "-rw-r--r--  1 txuantu  staff     429 Nov  8 10:18 domain.yml\r\n",
      "-rw-r--r--  1 txuantu  staff      56 Nov  8 10:18 endpoints.yml\r\n",
      "-rw-r--r--  1 txuantu  staff     225 Nov  8 11:47 nlu_config.yml\r\n",
      "-rw-r--r--  1 txuantu  staff  961884 Nov  8 10:18 rasa-stack-mockup.gif\r\n",
      "-rw-r--r--  1 txuantu  staff     604 Nov  8 10:18 requirements.txt\r\n"
     ]
    }
   ],
   "source": [
    "!ls -l"
   ]
  },
  {
   "cell_type": "code",
   "execution_count": 252,
   "metadata": {
    "scrolled": true
   },
   "outputs": [
    {
     "name": "stderr",
     "output_type": "stream",
     "text": [
      "/Users/txuantu/anaconda2/lib/python2.7/site-packages/h5py/__init__.py:36: FutureWarning: Conversion of the second argument of issubdtype from `float` to `np.floating` is deprecated. In future, it will be treated as `np.float64 == np.dtype(float).type`.\n",
      "  from ._conv import register_converters as _register_converters\n",
      "2018-11-11 00:27:55 INFO     rasa_nlu.utils.spacy_utils  - Trying to load spacy model with name 'en'\n",
      "2018-11-11 00:27:56 INFO     rasa_nlu.components  - Added 'nlp_spacy' to component cache. Key 'nlp_spacy-en'.\n",
      "2018-11-11 00:28:09 INFO     rasa_nlu.training_data.loading  - Training data format of data/nlu_data.md is md\n",
      "2018-11-11 00:28:09 INFO     rasa_nlu.training_data.training_data  - Training data stats: \n",
      "\t- intent examples: 57 (10 distinct intents)\n",
      "\t- Found intents: 'issue_date', 'name', 'user_dob', 'car_model', 'affirm', 'greet', 'pricing', 'goodbye', 'expire_date', 'thank'\n",
      "\t- entity examples: 18 (3 distinct entities)\n",
      "\t- found entities: 'make', 'model', 'name'\n",
      "\n",
      "2018-11-11 00:28:09 INFO     rasa_nlu.model  - Starting to train component nlp_spacy\n",
      "2018-11-11 00:28:09 INFO     rasa_nlu.model  - Finished training component.\n",
      "2018-11-11 00:28:09 INFO     rasa_nlu.model  - Starting to train component tokenizer_spacy\n",
      "2018-11-11 00:28:09 INFO     rasa_nlu.model  - Finished training component.\n",
      "2018-11-11 00:28:09 INFO     rasa_nlu.model  - Starting to train component intent_entity_featurizer_regex\n",
      "2018-11-11 00:28:09 INFO     rasa_nlu.model  - Finished training component.\n",
      "2018-11-11 00:28:09 INFO     rasa_nlu.model  - Starting to train component intent_featurizer_spacy\n",
      "2018-11-11 00:28:09 INFO     rasa_nlu.model  - Finished training component.\n",
      "2018-11-11 00:28:09 INFO     rasa_nlu.model  - Starting to train component ner_crf\n",
      "2018-11-11 00:28:09 INFO     rasa_nlu.model  - Finished training component.\n",
      "2018-11-11 00:28:09 INFO     rasa_nlu.model  - Starting to train component ner_duckling\n",
      "2018-11-11 00:28:09 INFO     rasa_nlu.model  - Finished training component.\n",
      "2018-11-11 00:28:09 INFO     rasa_nlu.model  - Starting to train component intent_featurizer_count_vectors\n",
      "2018-11-11 00:28:09 INFO     rasa_nlu.model  - Finished training component.\n",
      "2018-11-11 00:28:09 INFO     rasa_nlu.model  - Starting to train component intent_featurizer_ngrams\n",
      "2018-11-11 00:28:09 INFO     rasa_nlu.model  - Finished training component.\n",
      "2018-11-11 00:28:09 INFO     rasa_nlu.model  - Starting to train component intent_classifier_tensorflow_embedding\n",
      "2018-11-11 00:28:11.928121: I tensorflow/core/platform/cpu_feature_guard.cc:141] Your CPU supports instructions that this TensorFlow binary was not compiled to use: AVX2 FMA\n",
      "2018-11-11 00:28:11 INFO     rasa_nlu.classifiers.embedding_intent_classifier  - Accuracy is updated every 10 epochs\n",
      "\r",
      "Epochs:   0%|          | 0/300 [00:00<?, ?it/s]\r",
      "Epochs:   0%|          | 0/300 [00:00<?, ?it/s, acc=0.140, loss=1.654]\r",
      "Epochs:   0%|          | 1/300 [00:00<01:17,  3.85it/s, acc=0.140, loss=1.654]\r",
      "Epochs:   0%|          | 1/300 [00:00<01:18,  3.79it/s, acc=0.140, loss=1.486]\r",
      "Epochs:   0%|          | 1/300 [00:00<01:20,  3.73it/s, acc=0.140, loss=1.340]\r",
      "Epochs:   0%|          | 1/300 [00:00<01:21,  3.67it/s, acc=0.140, loss=1.267]\r",
      "Epochs:   0%|          | 1/300 [00:00<01:22,  3.62it/s, acc=0.140, loss=1.178]\r",
      "Epochs:   0%|          | 1/300 [00:00<01:23,  3.57it/s, acc=0.140, loss=1.133]\r",
      "Epochs:   0%|          | 1/300 [00:00<01:24,  3.52it/s, acc=0.140, loss=1.081]\r",
      "Epochs:   0%|          | 1/300 [00:00<01:25,  3.48it/s, acc=0.140, loss=1.051]\r",
      "Epochs:   0%|          | 1/300 [00:00<01:26,  3.44it/s, acc=0.140, loss=1.010]\r",
      "Epochs:   0%|          | 1/300 [00:00<01:28,  3.39it/s, acc=0.860, loss=0.992]\r",
      "Epochs:   0%|          | 1/300 [00:00<01:29,  3.35it/s, acc=0.860, loss=0.921]\r",
      "Epochs:   0%|          | 1/300 [00:00<01:30,  3.31it/s, acc=0.860, loss=0.886]\r",
      "Epochs:   0%|          | 1/300 [00:00<01:31,  3.28it/s, acc=0.860, loss=0.857]\r",
      "Epochs:   0%|          | 1/300 [00:00<01:32,  3.24it/s, acc=0.860, loss=0.806]\r",
      "Epochs:   0%|          | 1/300 [00:00<01:33,  3.20it/s, acc=0.860, loss=0.799]\r",
      "Epochs:   0%|          | 1/300 [00:00<01:34,  3.17it/s, acc=0.860, loss=0.789]\r",
      "Epochs:   0%|          | 1/300 [00:00<01:35,  3.13it/s, acc=0.860, loss=0.754]\r",
      "Epochs:   0%|          | 1/300 [00:00<01:36,  3.10it/s, acc=0.860, loss=0.738]\r",
      "Epochs:   0%|          | 1/300 [00:00<01:37,  3.07it/s, acc=0.860, loss=0.721]\r",
      "Epochs:   0%|          | 1/300 [00:00<01:38,  3.03it/s, acc=1.000, loss=0.713]\r",
      "Epochs:   0%|          | 1/300 [00:00<01:39,  3.00it/s, acc=1.000, loss=0.702]\r",
      "Epochs:   0%|          | 1/300 [00:00<01:40,  2.97it/s, acc=1.000, loss=0.687]\r",
      "Epochs:   0%|          | 1/300 [00:00<01:41,  2.94it/s, acc=1.000, loss=0.651]\r",
      "Epochs:   0%|          | 1/300 [00:00<01:42,  2.91it/s, acc=1.000, loss=0.648]\r",
      "Epochs:   0%|          | 1/300 [00:00<01:43,  2.88it/s, acc=1.000, loss=0.626]\r",
      "Epochs:   0%|          | 1/300 [00:00<01:44,  2.85it/s, acc=1.000, loss=0.622]\r",
      "Epochs:   0%|          | 1/300 [00:00<01:45,  2.82it/s, acc=1.000, loss=0.620]\r",
      "Epochs:   0%|          | 1/300 [00:00<01:46,  2.80it/s, acc=1.000, loss=0.617]\r",
      "Epochs:   0%|          | 1/300 [00:00<01:47,  2.77it/s, acc=1.000, loss=0.584]\r",
      "Epochs:  10%|9         | 29/300 [00:00<00:03, 80.37it/s, acc=1.000, loss=0.584]\r",
      "Epochs:  10%|9         | 29/300 [00:00<00:03, 79.36it/s, acc=1.000, loss=0.587]\r",
      "Epochs:  10%|9         | 29/300 [00:00<00:03, 78.66it/s, acc=1.000, loss=0.575]\r",
      "Epochs:  10%|9         | 29/300 [00:00<00:03, 77.92it/s, acc=1.000, loss=0.580]\r",
      "Epochs:  10%|9         | 29/300 [00:00<00:03, 77.24it/s, acc=1.000, loss=0.563]\r",
      "Epochs:  10%|9         | 29/300 [00:00<00:03, 76.55it/s, acc=1.000, loss=0.552]\r",
      "Epochs:  10%|9         | 29/300 [00:00<00:03, 75.89it/s, acc=1.000, loss=0.544]\r",
      "Epochs:  10%|9         | 29/300 [00:00<00:03, 75.23it/s, acc=1.000, loss=0.548]\r",
      "Epochs:  10%|9         | 29/300 [00:00<00:03, 74.54it/s, acc=1.000, loss=0.542]\r",
      "Epochs:  10%|9         | 29/300 [00:00<00:03, 73.89it/s, acc=1.000, loss=0.519]\r",
      "Epochs:  10%|9         | 29/300 [00:00<00:03, 73.27it/s, acc=1.000, loss=0.532]\r",
      "Epochs:  10%|9         | 29/300 [00:00<00:03, 72.44it/s, acc=1.000, loss=0.514]\r",
      "Epochs:  10%|9         | 29/300 [00:00<00:03, 71.85it/s, acc=1.000, loss=0.512]\r",
      "Epochs:  10%|9         | 29/300 [00:00<00:03, 71.26it/s, acc=1.000, loss=0.505]\r",
      "Epochs:  10%|9         | 29/300 [00:00<00:03, 70.67it/s, acc=1.000, loss=0.496]\r",
      "Epochs:  10%|9         | 29/300 [00:00<00:03, 70.11it/s, acc=1.000, loss=0.491]\r",
      "Epochs:  10%|9         | 29/300 [00:00<00:03, 69.51it/s, acc=1.000, loss=0.487]\r",
      "Epochs:  10%|9         | 29/300 [00:00<00:03, 68.93it/s, acc=1.000, loss=0.486]\r",
      "Epochs:  10%|9         | 29/300 [00:00<00:03, 68.37it/s, acc=1.000, loss=0.479]\r",
      "Epochs:  10%|9         | 29/300 [00:00<00:03, 67.82it/s, acc=1.000, loss=0.472]\r",
      "Epochs:  10%|9         | 29/300 [00:00<00:04, 67.28it/s, acc=1.000, loss=0.465]\r",
      "Epochs:  10%|9         | 29/300 [00:00<00:04, 66.57it/s, acc=1.000, loss=0.464]\r",
      "Epochs:  10%|9         | 29/300 [00:00<00:04, 66.05it/s, acc=1.000, loss=0.465]\r",
      "Epochs:  10%|9         | 29/300 [00:00<00:04, 65.56it/s, acc=1.000, loss=0.457]\r",
      "Epochs:  10%|9         | 29/300 [00:00<00:04, 65.04it/s, acc=1.000, loss=0.449]\r",
      "Epochs:  10%|9         | 29/300 [00:00<00:04, 64.52it/s, acc=1.000, loss=0.448]\r",
      "Epochs:  10%|9         | 29/300 [00:00<00:04, 64.04it/s, acc=1.000, loss=0.445]\r",
      "Epochs:  10%|9         | 29/300 [00:00<00:04, 63.56it/s, acc=1.000, loss=0.437]\r",
      "Epochs:  10%|9         | 29/300 [00:00<00:04, 63.08it/s, acc=1.000, loss=0.429]\r",
      "Epochs:  10%|9         | 29/300 [00:00<00:04, 62.63it/s, acc=1.000, loss=0.427]\r",
      "Epochs:  19%|#9        | 58/300 [00:00<00:01, 125.24it/s, acc=1.000, loss=0.427]\r",
      "Epochs:  19%|#9        | 58/300 [00:00<00:01, 124.34it/s, acc=1.000, loss=0.421]\r",
      "Epochs:  19%|#9        | 58/300 [00:00<00:01, 123.17it/s, acc=1.000, loss=0.417]\r",
      "Epochs:  19%|#9        | 58/300 [00:00<00:01, 122.30it/s, acc=1.000, loss=0.417]\r",
      "Epochs:  19%|#9        | 58/300 [00:00<00:01, 121.41it/s, acc=1.000, loss=0.410]\r",
      "Epochs:  19%|#9        | 58/300 [00:00<00:02, 120.56it/s, acc=1.000, loss=0.405]\r",
      "Epochs:  19%|#9        | 58/300 [00:00<00:02, 119.69it/s, acc=1.000, loss=0.406]\r",
      "Epochs:  19%|#9        | 58/300 [00:00<00:02, 118.84it/s, acc=1.000, loss=0.392]\r",
      "Epochs:  19%|#9        | 58/300 [00:00<00:02, 118.03it/s, acc=1.000, loss=0.393]\r",
      "Epochs:  19%|#9        | 58/300 [00:00<00:02, 117.22it/s, acc=1.000, loss=0.388]\r",
      "Epochs:  19%|#9        | 58/300 [00:00<00:02, 116.41it/s, acc=1.000, loss=0.385]\r",
      "Epochs:  19%|#9        | 58/300 [00:00<00:02, 115.60it/s, acc=1.000, loss=0.380]\r",
      "Epochs:  19%|#9        | 58/300 [00:00<00:02, 114.55it/s, acc=1.000, loss=0.379]\r",
      "Epochs:  19%|#9        | 58/300 [00:00<00:02, 113.78it/s, acc=1.000, loss=0.371]\r",
      "Epochs:  19%|#9        | 58/300 [00:00<00:02, 113.02it/s, acc=1.000, loss=0.372]\r",
      "Epochs:  19%|#9        | 58/300 [00:00<00:02, 112.23it/s, acc=1.000, loss=0.365]\r",
      "Epochs:  19%|#9        | 58/300 [00:00<00:02, 111.51it/s, acc=1.000, loss=0.362]\r",
      "Epochs:  19%|#9        | 58/300 [00:00<00:02, 110.80it/s, acc=1.000, loss=0.358]\r",
      "Epochs:  19%|#9        | 58/300 [00:00<00:02, 110.10it/s, acc=1.000, loss=0.355]\r",
      "Epochs:  19%|#9        | 58/300 [00:00<00:02, 109.39it/s, acc=1.000, loss=0.353]\r",
      "Epochs:  19%|#9        | 58/300 [00:00<00:02, 108.68it/s, acc=1.000, loss=0.349]\r",
      "Epochs:  19%|#9        | 58/300 [00:00<00:02, 107.99it/s, acc=1.000, loss=0.344]\r",
      "Epochs:  19%|#9        | 58/300 [00:00<00:02, 107.09it/s, acc=1.000, loss=0.340]\r",
      "Epochs:  19%|#9        | 58/300 [00:00<00:02, 106.41it/s, acc=1.000, loss=0.336]\r",
      "Epochs:  19%|#9        | 58/300 [00:00<00:02, 105.76it/s, acc=1.000, loss=0.335]\r",
      "Epochs:  19%|#9        | 58/300 [00:00<00:02, 105.08it/s, acc=1.000, loss=0.334]\r",
      "Epochs:  19%|#9        | 58/300 [00:00<00:02, 104.43it/s, acc=1.000, loss=0.332]\r",
      "Epochs:  19%|#9        | 58/300 [00:00<00:02, 103.80it/s, acc=1.000, loss=0.328]\r",
      "Epochs:  19%|#9        | 58/300 [00:00<00:02, 103.17it/s, acc=1.000, loss=0.325]\r",
      "Epochs:  19%|#9        | 58/300 [00:00<00:02, 102.55it/s, acc=1.000, loss=0.322]\r",
      "Epochs:  29%|##9       | 87/300 [00:00<00:01, 153.81it/s, acc=1.000, loss=0.322]\r",
      "Epochs:  29%|##9       | 87/300 [00:00<00:01, 152.86it/s, acc=1.000, loss=0.323]\r",
      "Epochs:  29%|##9       | 87/300 [00:00<00:01, 151.96it/s, acc=1.000, loss=0.318]\r",
      "Epochs:  29%|##9       | 87/300 [00:00<00:01, 150.82it/s, acc=1.000, loss=0.316]\r",
      "Epochs:  29%|##9       | 87/300 [00:00<00:01, 149.96it/s, acc=1.000, loss=0.313]\r",
      "Epochs:  29%|##9       | 87/300 [00:00<00:01, 149.10it/s, acc=1.000, loss=0.312]\r",
      "Epochs:  29%|##9       | 87/300 [00:00<00:01, 148.21it/s, acc=1.000, loss=0.311]\r",
      "Epochs:  29%|##9       | 87/300 [00:00<00:01, 147.36it/s, acc=1.000, loss=0.309]\r",
      "Epochs:  29%|##9       | 87/300 [00:00<00:01, 146.54it/s, acc=1.000, loss=0.308]\r",
      "Epochs:  29%|##9       | 87/300 [00:00<00:01, 145.69it/s, acc=1.000, loss=0.307]\r",
      "Epochs:  29%|##9       | 87/300 [00:00<00:01, 144.84it/s, acc=1.000, loss=0.300]\r",
      "Epochs:  29%|##9       | 87/300 [00:00<00:01, 144.01it/s, acc=1.000, loss=0.302]\r",
      "Epochs:  29%|##9       | 87/300 [00:00<00:01, 143.21it/s, acc=1.000, loss=0.298]\r",
      "Epochs:  29%|##9       | 87/300 [00:00<00:01, 142.17it/s, acc=1.000, loss=0.294]\r",
      "Epochs:  29%|##9       | 87/300 [00:00<00:01, 141.39it/s, acc=1.000, loss=0.292]\r",
      "Epochs:  29%|##9       | 87/300 [00:00<00:01, 140.58it/s, acc=1.000, loss=0.291]\r",
      "Epochs:  29%|##9       | 87/300 [00:00<00:01, 139.81it/s, acc=1.000, loss=0.291]\r",
      "Epochs:  29%|##9       | 87/300 [00:00<00:01, 139.02it/s, acc=1.000, loss=0.294]\r",
      "Epochs:  29%|##9       | 87/300 [00:00<00:01, 138.26it/s, acc=1.000, loss=0.284]\r",
      "Epochs:  29%|##9       | 87/300 [00:00<00:01, 137.50it/s, acc=1.000, loss=0.282]\r",
      "Epochs:  29%|##9       | 87/300 [00:00<00:01, 136.74it/s, acc=1.000, loss=0.280]\r",
      "Epochs:  29%|##9       | 87/300 [00:00<00:01, 136.02it/s, acc=1.000, loss=0.280]\r",
      "Epochs:  29%|##9       | 87/300 [00:00<00:01, 135.28it/s, acc=1.000, loss=0.277]\r",
      "Epochs:  29%|##9       | 87/300 [00:00<00:01, 134.33it/s, acc=1.000, loss=0.276]\r",
      "Epochs:  29%|##9       | 87/300 [00:00<00:01, 133.64it/s, acc=1.000, loss=0.275]\r",
      "Epochs:  29%|##9       | 87/300 [00:00<00:01, 132.94it/s, acc=1.000, loss=0.272]\r",
      "Epochs:  29%|##9       | 87/300 [00:00<00:01, 132.26it/s, acc=1.000, loss=0.271]\r",
      "Epochs:  29%|##9       | 87/300 [00:00<00:01, 131.57it/s, acc=1.000, loss=0.270]\r",
      "Epochs:  29%|##9       | 87/300 [00:00<00:01, 130.89it/s, acc=1.000, loss=0.267]\r",
      "Epochs:  29%|##9       | 87/300 [00:00<00:01, 130.20it/s, acc=1.000, loss=0.264]\r",
      "Epochs:  39%|###8      | 116/300 [00:00<00:01, 173.59it/s, acc=1.000, loss=0.264]\r",
      "Epochs:  39%|###8      | 116/300 [00:00<00:01, 172.69it/s, acc=1.000, loss=0.262]\r",
      "Epochs:  39%|###8      | 116/300 [00:00<00:01, 171.78it/s, acc=1.000, loss=0.262]\r",
      "Epochs:  39%|###8      | 116/300 [00:00<00:01, 170.91it/s, acc=1.000, loss=0.261]\r",
      "Epochs:  39%|###8      | 116/300 [00:00<00:01, 169.81it/s, acc=1.000, loss=0.257]\r",
      "Epochs:  39%|###8      | 116/300 [00:00<00:01, 168.99it/s, acc=1.000, loss=0.257]\r",
      "Epochs:  39%|###8      | 116/300 [00:00<00:01, 168.13it/s, acc=1.000, loss=0.253]\r",
      "Epochs:  39%|###8      | 116/300 [00:00<00:01, 167.33it/s, acc=1.000, loss=0.252]\r",
      "Epochs:  39%|###8      | 116/300 [00:00<00:01, 166.51it/s, acc=1.000, loss=0.251]\r",
      "Epochs:  39%|###8      | 116/300 [00:00<00:01, 165.70it/s, acc=1.000, loss=0.249]\r",
      "Epochs:  39%|###8      | 116/300 [00:00<00:01, 164.91it/s, acc=1.000, loss=0.248]\r",
      "Epochs:  39%|###8      | 116/300 [00:00<00:01, 164.11it/s, acc=1.000, loss=0.245]\r",
      "Epochs:  39%|###8      | 116/300 [00:00<00:01, 163.31it/s, acc=1.000, loss=0.243]\r",
      "Epochs:  39%|###8      | 116/300 [00:00<00:01, 162.49it/s, acc=1.000, loss=0.248]\r",
      "Epochs:  39%|###8      | 116/300 [00:00<00:01, 161.44it/s, acc=1.000, loss=0.241]\r",
      "Epochs:  39%|###8      | 116/300 [00:00<00:01, 160.67it/s, acc=1.000, loss=0.239]\r",
      "Epochs:  39%|###8      | 116/300 [00:00<00:01, 159.93it/s, acc=1.000, loss=0.240]\r",
      "Epochs:  39%|###8      | 116/300 [00:00<00:01, 159.17it/s, acc=1.000, loss=0.238]\r",
      "Epochs:  39%|###8      | 116/300 [00:00<00:01, 158.43it/s, acc=1.000, loss=0.235]\r",
      "Epochs:  39%|###8      | 116/300 [00:00<00:01, 157.69it/s, acc=1.000, loss=0.232]\r",
      "Epochs:  39%|###8      | 116/300 [00:00<00:01, 156.97it/s, acc=1.000, loss=0.235]\r",
      "Epochs:  39%|###8      | 116/300 [00:00<00:01, 156.27it/s, acc=1.000, loss=0.231]\r",
      "Epochs:  39%|###8      | 116/300 [00:00<00:01, 155.57it/s, acc=1.000, loss=0.229]\r",
      "Epochs:  39%|###8      | 116/300 [00:00<00:01, 154.87it/s, acc=1.000, loss=0.228]\r",
      "Epochs:  39%|###8      | 116/300 [00:00<00:01, 153.96it/s, acc=1.000, loss=0.225]\r",
      "Epochs:  39%|###8      | 116/300 [00:00<00:01, 153.28it/s, acc=1.000, loss=0.227]\r",
      "Epochs:  39%|###8      | 116/300 [00:00<00:01, 152.62it/s, acc=1.000, loss=0.223]\r",
      "Epochs:  39%|###8      | 116/300 [00:00<00:01, 151.95it/s, acc=1.000, loss=0.222]\r",
      "Epochs:  39%|###8      | 116/300 [00:00<00:01, 151.28it/s, acc=1.000, loss=0.220]\r",
      "Epochs:  39%|###8      | 116/300 [00:00<00:01, 150.63it/s, acc=1.000, loss=0.221]\r",
      "Epochs:  48%|####8     | 145/300 [00:00<00:00, 188.28it/s, acc=1.000, loss=0.221]\r",
      "Epochs:  48%|####8     | 145/300 [00:00<00:00, 187.45it/s, acc=1.000, loss=0.217]\r",
      "Epochs:  48%|####8     | 145/300 [00:00<00:00, 186.61it/s, acc=1.000, loss=0.215]\r",
      "Epochs:  48%|####8     | 145/300 [00:00<00:00, 185.77it/s, acc=1.000, loss=0.215]\r",
      "Epochs:  48%|####8     | 145/300 [00:00<00:00, 184.94it/s, acc=1.000, loss=0.215]\r",
      "Epochs:  48%|####8     | 145/300 [00:00<00:00, 183.90it/s, acc=1.000, loss=0.212]\r",
      "Epochs:  48%|####8     | 145/300 [00:00<00:00, 183.11it/s, acc=1.000, loss=0.214]\r",
      "Epochs:  48%|####8     | 145/300 [00:00<00:00, 182.33it/s, acc=1.000, loss=0.209]\r",
      "Epochs:  48%|####8     | 145/300 [00:00<00:00, 181.58it/s, acc=1.000, loss=0.208]\r",
      "Epochs:  48%|####8     | 145/300 [00:00<00:00, 180.78it/s, acc=1.000, loss=0.208]\r",
      "Epochs:  48%|####8     | 145/300 [00:00<00:00, 180.01it/s, acc=1.000, loss=0.206]\r",
      "Epochs:  48%|####8     | 145/300 [00:00<00:00, 179.25it/s, acc=1.000, loss=0.204]\r",
      "Epochs:  48%|####8     | 145/300 [00:00<00:00, 178.53it/s, acc=1.000, loss=0.203]\r",
      "Epochs:  48%|####8     | 145/300 [00:00<00:00, 177.74it/s, acc=1.000, loss=0.201]\r",
      "Epochs:  48%|####8     | 145/300 [00:00<00:00, 177.01it/s, acc=1.000, loss=0.200]\r",
      "Epochs:  48%|####8     | 145/300 [00:00<00:00, 176.07it/s, acc=1.000, loss=0.199]\r",
      "Epochs:  48%|####8     | 145/300 [00:00<00:00, 175.35it/s, acc=1.000, loss=0.198]\r",
      "Epochs:  48%|####8     | 145/300 [00:00<00:00, 174.62it/s, acc=1.000, loss=0.196]\r",
      "Epochs:  48%|####8     | 145/300 [00:00<00:00, 173.89it/s, acc=1.000, loss=0.196]\r",
      "Epochs:  48%|####8     | 145/300 [00:00<00:00, 173.19it/s, acc=1.000, loss=0.195]\r",
      "Epochs:  48%|####8     | 145/300 [00:00<00:00, 172.50it/s, acc=1.000, loss=0.196]\r",
      "Epochs:  48%|####8     | 145/300 [00:00<00:00, 171.82it/s, acc=1.000, loss=0.194]\r",
      "Epochs:  48%|####8     | 145/300 [00:00<00:00, 171.10it/s, acc=1.000, loss=0.191]\r",
      "Epochs:  48%|####8     | 145/300 [00:00<00:00, 170.42it/s, acc=1.000, loss=0.192]\r",
      "Epochs:  48%|####8     | 145/300 [00:00<00:00, 169.74it/s, acc=1.000, loss=0.189]\r",
      "Epochs:  48%|####8     | 145/300 [00:00<00:00, 168.87it/s, acc=1.000, loss=0.188]\r",
      "Epochs:  48%|####8     | 145/300 [00:00<00:00, 168.23it/s, acc=1.000, loss=0.187]\r",
      "Epochs:  48%|####8     | 145/300 [00:00<00:00, 167.58it/s, acc=1.000, loss=0.185]\r",
      "Epochs:  48%|####8     | 145/300 [00:00<00:00, 166.93it/s, acc=1.000, loss=0.184]\r",
      "Epochs:  48%|####8     | 145/300 [00:00<00:00, 166.29it/s, acc=1.000, loss=0.183]\r",
      "Epochs:  58%|#####8    | 174/300 [00:00<00:00, 199.54it/s, acc=1.000, loss=0.183]\r",
      "Epochs:  58%|#####8    | 174/300 [00:00<00:00, 198.79it/s, acc=1.000, loss=0.182]\r",
      "Epochs:  58%|#####8    | 174/300 [00:00<00:00, 198.05it/s, acc=1.000, loss=0.181]\r",
      "Epochs:  58%|#####8    | 174/300 [00:00<00:00, 197.29it/s, acc=1.000, loss=0.182]\r",
      "Epochs:  58%|#####8    | 174/300 [00:00<00:00, 196.52it/s, acc=1.000, loss=0.181]\r",
      "Epochs:  58%|#####8    | 174/300 [00:00<00:00, 195.75it/s, acc=1.000, loss=0.183]\r",
      "Epochs:  58%|#####8    | 174/300 [00:00<00:00, 194.78it/s, acc=1.000, loss=0.177]\r",
      "Epochs:  58%|#####8    | 174/300 [00:00<00:00, 194.07it/s, acc=1.000, loss=0.176]\r",
      "Epochs:  58%|#####8    | 174/300 [00:00<00:00, 193.34it/s, acc=1.000, loss=0.175]\r",
      "Epochs:  58%|#####8    | 174/300 [00:00<00:00, 192.62it/s, acc=1.000, loss=0.173]\r",
      "Epochs:  58%|#####8    | 174/300 [00:00<00:00, 191.92it/s, acc=1.000, loss=0.174]\r",
      "Epochs:  58%|#####8    | 174/300 [00:00<00:00, 191.20it/s, acc=1.000, loss=0.172]\r",
      "Epochs:  58%|#####8    | 174/300 [00:00<00:00, 190.46it/s, acc=1.000, loss=0.174]\r",
      "Epochs:  58%|#####8    | 174/300 [00:00<00:00, 189.77it/s, acc=1.000, loss=0.170]\r",
      "Epochs:  58%|#####8    | 174/300 [00:00<00:00, 189.08it/s, acc=1.000, loss=0.168]\r",
      "Epochs:  58%|#####8    | 174/300 [00:00<00:00, 188.41it/s, acc=1.000, loss=0.170]\r",
      "Epochs:  58%|#####8    | 174/300 [00:00<00:00, 187.51it/s, acc=1.000, loss=0.169]\r",
      "Epochs:  58%|#####8    | 174/300 [00:00<00:00, 186.83it/s, acc=1.000, loss=0.167]\r",
      "Epochs:  58%|#####8    | 174/300 [00:00<00:00, 186.11it/s, acc=1.000, loss=0.167]\r",
      "Epochs:  58%|#####8    | 174/300 [00:00<00:00, 185.44it/s, acc=1.000, loss=0.167]\r",
      "Epochs:  58%|#####8    | 174/300 [00:00<00:00, 184.79it/s, acc=1.000, loss=0.163]\r",
      "Epochs:  58%|#####8    | 174/300 [00:00<00:00, 184.12it/s, acc=1.000, loss=0.163]\r",
      "Epochs:  58%|#####8    | 174/300 [00:00<00:00, 183.46it/s, acc=1.000, loss=0.161]\r",
      "Epochs:  58%|#####8    | 174/300 [00:00<00:00, 182.79it/s, acc=1.000, loss=0.160]\r",
      "Epochs:  58%|#####8    | 174/300 [00:00<00:00, 182.15it/s, acc=1.000, loss=0.160]\r",
      "Epochs:  58%|#####8    | 174/300 [00:00<00:00, 181.51it/s, acc=1.000, loss=0.158]\r",
      "Epochs:  58%|#####8    | 174/300 [00:00<00:00, 180.69it/s, acc=1.000, loss=0.158]\r",
      "Epochs:  58%|#####8    | 174/300 [00:00<00:00, 180.06it/s, acc=1.000, loss=0.160]\r",
      "Epochs:  58%|#####8    | 174/300 [00:00<00:00, 179.42it/s, acc=1.000, loss=0.156]\r",
      "Epochs:  58%|#####8    | 174/300 [00:00<00:00, 178.80it/s, acc=1.000, loss=0.156]\r",
      "Epochs:  68%|######7   | 203/300 [00:00<00:00, 208.59it/s, acc=1.000, loss=0.156]\r",
      "Epochs:  68%|######7   | 203/300 [00:00<00:00, 207.89it/s, acc=1.000, loss=0.156]\r",
      "Epochs:  68%|######7   | 203/300 [00:00<00:00, 207.14it/s, acc=1.000, loss=0.156]\r",
      "Epochs:  68%|######7   | 203/300 [00:00<00:00, 206.43it/s, acc=1.000, loss=0.156]\r",
      "Epochs:  68%|######7   | 203/300 [00:00<00:00, 205.69it/s, acc=1.000, loss=0.151]\r",
      "Epochs:  68%|######7   | 203/300 [00:00<00:00, 205.02it/s, acc=1.000, loss=0.152]\r",
      "Epochs:  68%|######7   | 203/300 [00:00<00:00, 204.32it/s, acc=1.000, loss=0.151]\r",
      "Epochs:  68%|######7   | 203/300 [00:00<00:00, 203.40it/s, acc=1.000, loss=0.149]\r",
      "Epochs:  68%|######7   | 203/300 [00:01<00:00, 202.74it/s, acc=1.000, loss=0.148]\r",
      "Epochs:  68%|######7   | 203/300 [00:01<00:00, 202.03it/s, acc=1.000, loss=0.149]\r",
      "Epochs:  68%|######7   | 203/300 [00:01<00:00, 201.38it/s, acc=1.000, loss=0.147]\r",
      "Epochs:  68%|######7   | 203/300 [00:01<00:00, 200.69it/s, acc=1.000, loss=0.153]\r",
      "Epochs:  68%|######7   | 203/300 [00:01<00:00, 200.04it/s, acc=1.000, loss=0.149]\r",
      "Epochs:  68%|######7   | 203/300 [00:01<00:00, 199.37it/s, acc=1.000, loss=0.146]\r",
      "Epochs:  68%|######7   | 203/300 [00:01<00:00, 198.67it/s, acc=1.000, loss=0.145]\r",
      "Epochs:  68%|######7   | 203/300 [00:01<00:00, 197.94it/s, acc=1.000, loss=0.146]\r",
      "Epochs:  68%|######7   | 203/300 [00:01<00:00, 197.13it/s, acc=1.000, loss=0.145]\r",
      "Epochs:  68%|######7   | 203/300 [00:01<00:00, 196.00it/s, acc=1.000, loss=0.146]\r",
      "Epochs:  68%|######7   | 203/300 [00:01<00:00, 195.28it/s, acc=1.000, loss=0.144]\r",
      "Epochs:  68%|######7   | 203/300 [00:01<00:00, 194.64it/s, acc=1.000, loss=0.140]\r",
      "Epochs:  68%|######7   | 203/300 [00:01<00:00, 194.02it/s, acc=1.000, loss=0.139]\r",
      "Epochs:  68%|######7   | 203/300 [00:01<00:00, 193.38it/s, acc=1.000, loss=0.140]\r",
      "Epochs:  68%|######7   | 203/300 [00:01<00:00, 192.73it/s, acc=1.000, loss=0.138]\r",
      "Epochs:  68%|######7   | 203/300 [00:01<00:00, 192.10it/s, acc=1.000, loss=0.138]\r",
      "Epochs:  68%|######7   | 203/300 [00:01<00:00, 191.50it/s, acc=1.000, loss=0.137]\r",
      "Epochs:  68%|######7   | 203/300 [00:01<00:00, 190.91it/s, acc=1.000, loss=0.140]\r",
      "Epochs:  68%|######7   | 203/300 [00:01<00:00, 190.27it/s, acc=1.000, loss=0.137]\r",
      "Epochs:  68%|######7   | 203/300 [00:01<00:00, 189.50it/s, acc=1.000, loss=0.135]\r",
      "Epochs:  68%|######7   | 203/300 [00:01<00:00, 188.91it/s, acc=1.000, loss=0.134]\r",
      "Epochs:  77%|#######7  | 231/300 [00:01<00:00, 214.96it/s, acc=1.000, loss=0.134]\r",
      "Epochs:  77%|#######7  | 231/300 [00:01<00:00, 214.30it/s, acc=1.000, loss=0.136]\r",
      "Epochs:  77%|#######7  | 231/300 [00:01<00:00, 213.62it/s, acc=1.000, loss=0.135]\r",
      "Epochs:  77%|#######7  | 231/300 [00:01<00:00, 212.95it/s, acc=1.000, loss=0.132]\r",
      "Epochs:  77%|#######7  | 231/300 [00:01<00:00, 212.30it/s, acc=1.000, loss=0.132]\r",
      "Epochs:  77%|#######7  | 231/300 [00:01<00:00, 211.64it/s, acc=1.000, loss=0.131]\r",
      "Epochs:  77%|#######7  | 231/300 [00:01<00:00, 211.00it/s, acc=1.000, loss=0.130]\r",
      "Epochs:  77%|#######7  | 231/300 [00:01<00:00, 210.35it/s, acc=1.000, loss=0.129]\r",
      "Epochs:  77%|#######7  | 231/300 [00:01<00:00, 209.70it/s, acc=1.000, loss=0.129]\r",
      "Epochs:  77%|#######7  | 231/300 [00:01<00:00, 208.86it/s, acc=1.000, loss=0.130]\r",
      "Epochs:  77%|#######7  | 231/300 [00:01<00:00, 208.25it/s, acc=1.000, loss=0.130]\r",
      "Epochs:  77%|#######7  | 231/300 [00:01<00:00, 207.63it/s, acc=1.000, loss=0.129]\r",
      "Epochs:  77%|#######7  | 231/300 [00:01<00:00, 207.00it/s, acc=1.000, loss=0.130]\r",
      "Epochs:  77%|#######7  | 231/300 [00:01<00:00, 206.37it/s, acc=1.000, loss=0.128]\r",
      "Epochs:  77%|#######7  | 231/300 [00:01<00:00, 205.76it/s, acc=1.000, loss=0.129]\r",
      "Epochs:  77%|#######7  | 231/300 [00:01<00:00, 205.13it/s, acc=1.000, loss=0.125]\r",
      "Epochs:  77%|#######7  | 231/300 [00:01<00:00, 204.52it/s, acc=1.000, loss=0.124]\r",
      "Epochs:  77%|#######7  | 231/300 [00:01<00:00, 203.91it/s, acc=1.000, loss=0.124]\r",
      "Epochs:  77%|#######7  | 231/300 [00:01<00:00, 203.30it/s, acc=1.000, loss=0.123]\r",
      "Epochs:  77%|#######7  | 231/300 [00:01<00:00, 202.49it/s, acc=1.000, loss=0.122]\r",
      "Epochs:  77%|#######7  | 231/300 [00:01<00:00, 201.92it/s, acc=1.000, loss=0.122]\r",
      "Epochs:  77%|#######7  | 231/300 [00:01<00:00, 201.32it/s, acc=1.000, loss=0.122]\r",
      "Epochs:  77%|#######7  | 231/300 [00:01<00:00, 200.73it/s, acc=1.000, loss=0.121]\r",
      "Epochs:  77%|#######7  | 231/300 [00:01<00:00, 200.17it/s, acc=1.000, loss=0.121]\r",
      "Epochs:  77%|#######7  | 231/300 [00:01<00:00, 199.58it/s, acc=1.000, loss=0.120]\r",
      "Epochs:  77%|#######7  | 231/300 [00:01<00:00, 198.99it/s, acc=1.000, loss=0.120]\r",
      "Epochs:  77%|#######7  | 231/300 [00:01<00:00, 198.43it/s, acc=1.000, loss=0.118]\r",
      "Epochs:  77%|#######7  | 231/300 [00:01<00:00, 197.87it/s, acc=1.000, loss=0.117]\r",
      "Epochs:  77%|#######7  | 231/300 [00:01<00:00, 197.30it/s, acc=1.000, loss=0.117]\r",
      "Epochs:  77%|#######7  | 231/300 [00:01<00:00, 196.55it/s, acc=1.000, loss=0.117]\r",
      "Epochs:  87%|########6 | 260/300 [00:01<00:00, 221.21it/s, acc=1.000, loss=0.117]\r",
      "Epochs:  87%|########6 | 260/300 [00:01<00:00, 220.58it/s, acc=1.000, loss=0.116]\r",
      "Epochs:  87%|########6 | 260/300 [00:01<00:00, 219.84it/s, acc=1.000, loss=0.115]\r",
      "Epochs:  87%|########6 | 260/300 [00:01<00:00, 219.19it/s, acc=1.000, loss=0.115]\r",
      "Epochs:  87%|########6 | 260/300 [00:01<00:00, 218.56it/s, acc=1.000, loss=0.116]\r",
      "Epochs:  87%|########6 | 260/300 [00:01<00:00, 217.94it/s, acc=1.000, loss=0.113]\r",
      "Epochs:  87%|########6 | 260/300 [00:01<00:00, 217.34it/s, acc=1.000, loss=0.113]\r",
      "Epochs:  87%|########6 | 260/300 [00:01<00:00, 216.70it/s, acc=1.000, loss=0.114]\r",
      "Epochs:  87%|########6 | 260/300 [00:01<00:00, 216.10it/s, acc=1.000, loss=0.114]\r",
      "Epochs:  87%|########6 | 260/300 [00:01<00:00, 215.49it/s, acc=1.000, loss=0.111]\r",
      "Epochs:  87%|########6 | 260/300 [00:01<00:00, 214.70it/s, acc=1.000, loss=0.114]\r",
      "Epochs:  87%|########6 | 260/300 [00:01<00:00, 214.06it/s, acc=1.000, loss=0.110]\r",
      "Epochs:  87%|########6 | 260/300 [00:01<00:00, 213.45it/s, acc=1.000, loss=0.110]\r",
      "Epochs:  87%|########6 | 260/300 [00:01<00:00, 212.87it/s, acc=1.000, loss=0.109]\r",
      "Epochs:  87%|########6 | 260/300 [00:01<00:00, 212.27it/s, acc=1.000, loss=0.111]\r",
      "Epochs:  87%|########6 | 260/300 [00:01<00:00, 211.68it/s, acc=1.000, loss=0.108]\r",
      "Epochs:  87%|########6 | 260/300 [00:01<00:00, 211.09it/s, acc=1.000, loss=0.110]\r",
      "Epochs:  87%|########6 | 260/300 [00:01<00:00, 210.50it/s, acc=1.000, loss=0.108]\r",
      "Epochs:  87%|########6 | 260/300 [00:01<00:00, 209.91it/s, acc=1.000, loss=0.108]\r",
      "Epochs:  87%|########6 | 260/300 [00:01<00:00, 209.34it/s, acc=1.000, loss=0.106]\r",
      "Epochs:  87%|########6 | 260/300 [00:01<00:00, 208.61it/s, acc=1.000, loss=0.106]\r",
      "Epochs:  87%|########6 | 260/300 [00:01<00:00, 208.04it/s, acc=1.000, loss=0.112]\r",
      "Epochs:  87%|########6 | 260/300 [00:01<00:00, 207.47it/s, acc=1.000, loss=0.106]\r",
      "Epochs:  87%|########6 | 260/300 [00:01<00:00, 206.93it/s, acc=1.000, loss=0.104]\r",
      "Epochs:  87%|########6 | 260/300 [00:01<00:00, 206.39it/s, acc=1.000, loss=0.104]\r",
      "Epochs:  87%|########6 | 260/300 [00:01<00:00, 205.84it/s, acc=1.000, loss=0.104]\r",
      "Epochs:  87%|########6 | 260/300 [00:01<00:00, 205.27it/s, acc=1.000, loss=0.106]\r",
      "Epochs:  87%|########6 | 260/300 [00:01<00:00, 204.72it/s, acc=1.000, loss=0.103]\r",
      "Epochs:  87%|########6 | 260/300 [00:01<00:00, 204.17it/s, acc=1.000, loss=0.103]\r",
      "Epochs:  87%|########6 | 260/300 [00:01<00:00, 203.64it/s, acc=1.000, loss=0.102]\r",
      "Epochs:  96%|#########6| 289/300 [00:01<00:00, 226.35it/s, acc=1.000, loss=0.102]\r",
      "Epochs:  96%|#########6| 289/300 [00:01<00:00, 225.52it/s, acc=1.000, loss=0.102]\r",
      "Epochs:  96%|#########6| 289/300 [00:01<00:00, 224.91it/s, acc=1.000, loss=0.100]\r",
      "Epochs:  96%|#########6| 289/300 [00:01<00:00, 224.28it/s, acc=1.000, loss=0.101]\r",
      "Epochs:  96%|#########6| 289/300 [00:01<00:00, 223.68it/s, acc=1.000, loss=0.100]\r",
      "Epochs:  96%|#########6| 289/300 [00:01<00:00, 223.09it/s, acc=1.000, loss=0.099]\r",
      "Epochs:  96%|#########6| 289/300 [00:01<00:00, 222.51it/s, acc=1.000, loss=0.099]\r",
      "Epochs:  96%|#########6| 289/300 [00:01<00:00, 221.92it/s, acc=1.000, loss=0.098]\r",
      "Epochs:  96%|#########6| 289/300 [00:01<00:00, 221.34it/s, acc=1.000, loss=0.098]\r",
      "Epochs:  96%|#########6| 289/300 [00:01<00:00, 220.77it/s, acc=1.000, loss=0.099]\r",
      "Epochs:  96%|#########6| 289/300 [00:01<00:00, 220.20it/s, acc=1.000, loss=0.097]\r",
      "Epochs:  96%|#########6| 289/300 [00:01<00:00, 219.45it/s, acc=1.000, loss=0.096]\r",
      "Epochs: 100%|##########| 300/300 [00:01<00:00, 222.30it/s, acc=1.000, loss=0.096]\n",
      "2018-11-11 00:28:13 INFO     rasa_nlu.classifiers.embedding_intent_classifier  - Finished training embedding policy, loss=0.096, train accuracy=1.000\n",
      "2018-11-11 00:28:13 INFO     rasa_nlu.model  - Finished training component.\n",
      "2018-11-11 00:28:13 INFO     rasa_nlu.model  - Successfully saved model into '/Users/txuantu/Documents/Projects/Development/chatbot_rasa/starter-pack-rasa-stack/models/current/nlu'\n",
      "2018-11-11 00:28:13 INFO     __main__  - Finished training\n"
     ]
    }
   ],
   "source": [
    "%%bash\n",
    "\n",
    "# export LC_ALL=en_US.UTF-8\n",
    "# export LANG=en_US.UTF-8\n",
    "python -m rasa_nlu.train -c nlu_config.yml --data data/nlu_data.md -o models --fixed_model_name nlu --project current --verbose"
   ]
  },
  {
   "cell_type": "code",
   "execution_count": 201,
   "metadata": {
    "collapsed": true
   },
   "outputs": [],
   "source": [
    "from duckling import DucklingWrapper"
   ]
  },
  {
   "cell_type": "code",
   "execution_count": 270,
   "metadata": {},
   "outputs": [],
   "source": [
    "d = DucklingWrapper()\n"
   ]
  },
  {
   "cell_type": "code",
   "execution_count": 271,
   "metadata": {},
   "outputs": [],
   "source": [
    "dt = d.parse_time(u'birth date is 20Oct 2018')"
   ]
  },
  {
   "cell_type": "code",
   "execution_count": 268,
   "metadata": {},
   "outputs": [
    {
     "data": {
      "text/plain": [
       "[u'2017', u'2018']"
      ]
     },
     "execution_count": 268,
     "metadata": {},
     "output_type": "execute_result"
    }
   ],
   "source": [
    "[d['text'] for d in dt if d['value']['grain'] == u'year']"
   ]
  },
  {
   "cell_type": "code",
   "execution_count": 272,
   "metadata": {},
   "outputs": [
    {
     "data": {
      "text/plain": [
       "[{u'dim': u'time',\n",
       "  u'end': 24,\n",
       "  u'start': 14,\n",
       "  u'text': u'20Oct 2018',\n",
       "  u'value': {u'grain': u'day',\n",
       "   u'others': [{u'grain': u'day', u'value': u'2018-10-20T00:00:00.000+08:00'}],\n",
       "   u'value': u'2018-10-20T00:00:00.000+08:00'}}]"
      ]
     },
     "execution_count": 272,
     "metadata": {},
     "output_type": "execute_result"
    }
   ],
   "source": [
    "dt"
   ]
  },
  {
   "cell_type": "code",
   "execution_count": null,
   "metadata": {
    "collapsed": true
   },
   "outputs": [],
   "source": [
    "import datetime as DT\n"
   ]
  },
  {
   "cell_type": "code",
   "execution_count": 238,
   "metadata": {},
   "outputs": [
    {
     "data": {
      "text/plain": [
       "Timestamp('2020-10-10 00:00:00')"
      ]
     },
     "execution_count": 238,
     "metadata": {},
     "output_type": "execute_result"
    }
   ],
   "source": [
    "pd.to_datetime(dt[0]['value']['value'][:10])"
   ]
  },
  {
   "cell_type": "code",
   "execution_count": 235,
   "metadata": {},
   "outputs": [
    {
     "data": {
      "text/plain": [
       "-701"
      ]
     },
     "execution_count": 235,
     "metadata": {},
     "output_type": "execute_result"
    }
   ],
   "source": [
    "(pd.Timestamp(DT.datetime.now()) -  pd.to_datetime(dt[0]['value']['value'][:10])).days"
   ]
  },
  {
   "cell_type": "code",
   "execution_count": 218,
   "metadata": {},
   "outputs": [
    {
     "data": {
      "text/plain": [
       "Timedelta('1500 days 16:53:03.614855')"
      ]
     },
     "execution_count": 218,
     "metadata": {},
     "output_type": "execute_result"
    }
   ],
   "source": [
    "(pd.datetime.now() - pd.to_datetime(dt[0]['value']['value'][:10]))"
   ]
  },
  {
   "cell_type": "code",
   "execution_count": 206,
   "metadata": {},
   "outputs": [
    {
     "data": {
      "text/plain": [
       "u'2014-10-01T00:00:00.000+08:00'"
      ]
     },
     "execution_count": 206,
     "metadata": {},
     "output_type": "execute_result"
    }
   ],
   "source": [
    "dt[0]['value']['value']"
   ]
  },
  {
   "cell_type": "code",
   "execution_count": 273,
   "metadata": {},
   "outputs": [
    {
     "name": "stdout",
     "output_type": "stream",
     "text": [
      "INFO:tensorflow:Restoring parameters from ./models/current/nlu/intent_classifier_tensorflow_embedding.ckpt\n"
     ]
    }
   ],
   "source": [
    "from rasa_nlu.model import Interpreter\n",
    "import json\n",
    "interpreter = Interpreter.load(\"./models/current/nlu\")\n"
   ]
  },
  {
   "cell_type": "code",
   "execution_count": 274,
   "metadata": {},
   "outputs": [
    {
     "name": "stdout",
     "output_type": "stream",
     "text": [
      "{\n",
      "  \"entities\": [\n",
      "    {\n",
      "      \"extractor\": \"ner_duckling\", \n",
      "      \"confidence\": 1.0, \n",
      "      \"end\": 29, \n",
      "      \"text\": \"20Oct 2020\", \n",
      "      \"value\": \"2020-10-20T00:00:00.000Z\", \n",
      "      \"entity\": \"time\", \n",
      "      \"start\": 19, \n",
      "      \"additional_info\": {\n",
      "        \"grain\": \"day\", \n",
      "        \"value\": \"2020-10-20T00:00:00.000Z\", \n",
      "        \"others\": [\n",
      "          {\n",
      "            \"grain\": \"day\", \n",
      "            \"value\": \"2020-10-20T00:00:00.000Z\"\n",
      "          }\n",
      "        ]\n",
      "      }\n",
      "    }\n",
      "  ], \n",
      "  \"intent\": {\n",
      "    \"confidence\": 0.6764746308326721, \n",
      "    \"name\": \"expire_date\"\n",
      "  }, \n",
      "  \"text\": \"expiration date is 20Oct 2020\", \n",
      "  \"intent_ranking\": [\n",
      "    {\n",
      "      \"confidence\": 0.6764746308326721, \n",
      "      \"name\": \"expire_date\"\n",
      "    }, \n",
      "    {\n",
      "      \"confidence\": 0.37079039216041565, \n",
      "      \"name\": \"name\"\n",
      "    }, \n",
      "    {\n",
      "      \"confidence\": 0.24927908182144165, \n",
      "      \"name\": \"issue_date\"\n",
      "    }, \n",
      "    {\n",
      "      \"confidence\": 0.16572505235671997, \n",
      "      \"name\": \"thank\"\n",
      "    }, \n",
      "    {\n",
      "      \"confidence\": 0.0976509153842926, \n",
      "      \"name\": \"year_model\"\n",
      "    }, \n",
      "    {\n",
      "      \"confidence\": 0.0, \n",
      "      \"name\": \"affirm\"\n",
      "    }, \n",
      "    {\n",
      "      \"confidence\": 0.0, \n",
      "      \"name\": \"car_model\"\n",
      "    }, \n",
      "    {\n",
      "      \"confidence\": 0.0, \n",
      "      \"name\": \"pricing\"\n",
      "    }, \n",
      "    {\n",
      "      \"confidence\": 0.0, \n",
      "      \"name\": \"greet\"\n",
      "    }, \n",
      "    {\n",
      "      \"confidence\": 0.0, \n",
      "      \"name\": \"goodbye\"\n",
      "    }\n",
      "  ]\n",
      "}\n"
     ]
    }
   ],
   "source": [
    "message = u\"expiration date is 20Oct 2020\"\n",
    "result = interpreter.parse(message)\n",
    "print(json.dumps(result, indent=2))"
   ]
  },
  {
   "cell_type": "code",
   "execution_count": 16,
   "metadata": {
    "collapsed": true
   },
   "outputs": [],
   "source": [
    "import re"
   ]
  },
  {
   "cell_type": "code",
   "execution_count": 25,
   "metadata": {
    "collapsed": true
   },
   "outputs": [],
   "source": [
    "x = r'[0-9]{4}[-/][0-9]{2}[-/][0-9]{2}'"
   ]
  },
  {
   "cell_type": "code",
   "execution_count": 28,
   "metadata": {},
   "outputs": [
    {
     "data": {
      "text/plain": [
       "'1000/10/10'"
      ]
     },
     "execution_count": 28,
     "metadata": {},
     "output_type": "execute_result"
    }
   ],
   "source": [
    "re.match(string='1000/10/100', pattern=x).group()"
   ]
  },
  {
   "cell_type": "code",
   "execution_count": null,
   "metadata": {
    "collapsed": true
   },
   "outputs": [],
   "source": []
  }
 ],
 "metadata": {
  "kernelspec": {
   "display_name": "Python 2",
   "language": "python",
   "name": "python2"
  },
  "language_info": {
   "codemirror_mode": {
    "name": "ipython",
    "version": 2
   },
   "file_extension": ".py",
   "mimetype": "text/x-python",
   "name": "python",
   "nbconvert_exporter": "python",
   "pygments_lexer": "ipython2",
   "version": "2.7.13"
  }
 },
 "nbformat": 4,
 "nbformat_minor": 2
}
